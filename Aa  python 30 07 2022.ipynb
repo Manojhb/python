{
 "cells": [
  {
   "cell_type": "markdown",
   "metadata": {},
   "source": [
    "#     print(val/var  ,sep=' '  ,end='\\n')"
   ]
  },
  {
   "cell_type": "code",
   "execution_count": null,
   "metadata": {},
   "outputs": [],
   "source": [
    "#     print(val/var  ,sep=' '  ,end='\\n')"
   ]
  },
  {
   "cell_type": "code",
   "execution_count": 16,
   "metadata": {},
   "outputs": [
    {
     "name": "stdout",
     "output_type": "stream",
     "text": [
      "Hello world\n"
     ]
    }
   ],
   "source": [
    "print(\"Hello world\")"
   ]
  },
  {
   "cell_type": "code",
   "execution_count": 17,
   "metadata": {},
   "outputs": [
    {
     "name": "stdout",
     "output_type": "stream",
     "text": [
      "the sum of 15 and 5 is 20\n"
     ]
    }
   ],
   "source": [
    "a=15\n",
    "b=5\n",
    "print('the sum of',a,'and',b,'is',a+b)"
   ]
  },
  {
   "cell_type": "code",
   "execution_count": 18,
   "metadata": {},
   "outputs": [
    {
     "name": "stdout",
     "output_type": "stream",
     "text": [
      "the sum of@15@and@5@is@20\n"
     ]
    }
   ],
   "source": [
    "a=15\n",
    "b=5\n",
    "print('the sum of',a,'and',b,'is',a+b,sep='@')"
   ]
  },
  {
   "cell_type": "code",
   "execution_count": 19,
   "metadata": {},
   "outputs": [
    {
     "name": "stdout",
     "output_type": "stream",
     "text": [
      "the sum of15and5is20\n"
     ]
    }
   ],
   "source": [
    "a=15\n",
    "b=5\n",
    "print('the sum of',a,'and',b,'is',a+b,sep='')"
   ]
  },
  {
   "cell_type": "code",
   "execution_count": 20,
   "metadata": {},
   "outputs": [
    {
     "name": "stdout",
     "output_type": "stream",
     "text": [
      "the sum of 15 and 5 is=20\n"
     ]
    }
   ],
   "source": [
    "a=15\n",
    "b=5\n",
    "print('the sum of',a,'and',b,'is',end='=')\n",
    "print(a+b)"
   ]
  },
  {
   "cell_type": "code",
   "execution_count": 21,
   "metadata": {},
   "outputs": [
    {
     "name": "stdout",
     "output_type": "stream",
     "text": [
      "the sum of 15 and 5 is\n",
      "20\n"
     ]
    }
   ],
   "source": [
    "a=15\n",
    "b=5\n",
    "print('the sum of',a,'and',b,'is')\n",
    "print(a+b)"
   ]
  },
  {
   "cell_type": "code",
   "execution_count": 22,
   "metadata": {},
   "outputs": [
    {
     "name": "stdout",
     "output_type": "stream",
     "text": [
      "the sum of 15 and 5 is\n",
      "\n",
      "\n",
      "20\n"
     ]
    }
   ],
   "source": [
    "a=15\n",
    "b=5\n",
    "print('the sum of',a,'and',b,'is',end='\\n\\n\\n')\n",
    "print(a+b)"
   ]
  },
  {
   "cell_type": "code",
   "execution_count": 23,
   "metadata": {},
   "outputs": [
    {
     "name": "stdout",
     "output_type": "stream",
     "text": [
      "10 20 30\n"
     ]
    }
   ],
   "source": [
    "var=10\n",
    "print(var,20,30)"
   ]
  },
  {
   "cell_type": "code",
   "execution_count": 24,
   "metadata": {},
   "outputs": [
    {
     "name": "stdout",
     "output_type": "stream",
     "text": [
      "var 20 30\n"
     ]
    }
   ],
   "source": [
    "var=10\n",
    "print('var',20,30)"
   ]
  },
  {
   "cell_type": "code",
   "execution_count": 25,
   "metadata": {},
   "outputs": [
    {
     "name": "stdout",
     "output_type": "stream",
     "text": [
      "10@20@30\n"
     ]
    }
   ],
   "source": [
    "var=10\n",
    "print(var,20,30,sep='@')"
   ]
  },
  {
   "cell_type": "code",
   "execution_count": 26,
   "metadata": {},
   "outputs": [
    {
     "name": "stdout",
     "output_type": "stream",
     "text": [
      "my name is manoj\n"
     ]
    }
   ],
   "source": [
    "name='manoj'\n",
    "print('my name is',name)"
   ]
  },
  {
   "cell_type": "code",
   "execution_count": 27,
   "metadata": {},
   "outputs": [
    {
     "name": "stdout",
     "output_type": "stream",
     "text": [
      "10@20@30\n"
     ]
    }
   ],
   "source": [
    "var=10\n",
    "print(var,20,30,sep='@')"
   ]
  },
  {
   "cell_type": "code",
   "execution_count": 28,
   "metadata": {},
   "outputs": [
    {
     "name": "stdout",
     "output_type": "stream",
     "text": [
      "my name is___manoj___kumar___msb\n",
      "age20@from bangalore\n"
     ]
    }
   ],
   "source": [
    "name='manoj'\n",
    "print('my name is',name,'kumar','msb',sep='___')\n",
    "print('age20',end='@')\n",
    "print('from bangalore')"
   ]
  },
  {
   "cell_type": "markdown",
   "metadata": {},
   "source": [
    "#  input()"
   ]
  },
  {
   "cell_type": "code",
   "execution_count": 1,
   "metadata": {},
   "outputs": [
    {
     "name": "stdout",
     "output_type": "stream",
     "text": [
      "enter the value of a:1\n",
      "1 <class 'str'>\n"
     ]
    }
   ],
   "source": [
    "a=input('enter the value of a:')\n",
    "print(a,type(a))"
   ]
  },
  {
   "cell_type": "code",
   "execution_count": 3,
   "metadata": {},
   "outputs": [
    {
     "name": "stdout",
     "output_type": "stream",
     "text": [
      "enter the num:1\n",
      "1\n",
      "<class 'int'>\n"
     ]
    }
   ],
   "source": [
    "a=int(input('enter the num:'))\n",
    "print(a)\n",
    "print(type(a))"
   ]
  },
  {
   "cell_type": "code",
   "execution_count": 1,
   "metadata": {},
   "outputs": [
    {
     "name": "stdout",
     "output_type": "stream",
     "text": [
      "enter the num :1\n",
      "1.0\n",
      "<class 'float'>\n"
     ]
    }
   ],
   "source": [
    "a=float(input('enter the num :'))\n",
    "print(a)\n",
    "print(type(a))"
   ]
  },
  {
   "cell_type": "code",
   "execution_count": 2,
   "metadata": {},
   "outputs": [
    {
     "name": "stdout",
     "output_type": "stream",
     "text": [
      "enter the num :1\n",
      "(1+0j)\n",
      "<class 'complex'>\n"
     ]
    }
   ],
   "source": [
    "a=complex(input('enter the num :'))\n",
    "print(a)\n",
    "print(type(a))"
   ]
  },
  {
   "cell_type": "code",
   "execution_count": 5,
   "metadata": {},
   "outputs": [
    {
     "name": "stdout",
     "output_type": "stream",
     "text": [
      "enter the num :1\n",
      "True\n",
      "<class 'bool'>\n"
     ]
    }
   ],
   "source": [
    "a=bool(input('enter the num :'))\n",
    "print(a)\n",
    "print(type(a))"
   ]
  },
  {
   "cell_type": "code",
   "execution_count": 8,
   "metadata": {},
   "outputs": [
    {
     "name": "stdout",
     "output_type": "stream",
     "text": [
      "enter the num for a :10\n",
      "enter the num for b :5\n",
      "True\n"
     ]
    }
   ],
   "source": [
    "a=int(input('enter the num for a :'))\n",
    "b=int(input('enter the num for b :'))\n",
    "c=a>b\n",
    "print(c)"
   ]
  },
  {
   "cell_type": "code",
   "execution_count": null,
   "metadata": {},
   "outputs": [],
   "source": []
  },
  {
   "cell_type": "code",
   "execution_count": null,
   "metadata": {},
   "outputs": [],
   "source": []
  },
  {
   "cell_type": "code",
   "execution_count": null,
   "metadata": {},
   "outputs": [],
   "source": []
  },
  {
   "cell_type": "markdown",
   "metadata": {},
   "source": [
    "# if"
   ]
  },
  {
   "cell_type": "code",
   "execution_count": 1,
   "metadata": {},
   "outputs": [
    {
     "name": "stdout",
     "output_type": "stream",
     "text": [
      "its an int\n"
     ]
    }
   ],
   "source": [
    "a=4\n",
    "if type(a)==int:\n",
    "    print('its an int')"
   ]
  },
  {
   "cell_type": "code",
   "execution_count": 5,
   "metadata": {},
   "outputs": [
    {
     "name": "stdout",
     "output_type": "stream",
     "text": [
      "collection\n"
     ]
    }
   ],
   "source": [
    "a=[1,2,3]\n",
    "if type(a) in (str,list,tuple,set,dict):\n",
    "    print('collection')"
   ]
  },
  {
   "cell_type": "code",
   "execution_count": 7,
   "metadata": {},
   "outputs": [
    {
     "name": "stdout",
     "output_type": "stream",
     "text": [
      "True\n"
     ]
    }
   ],
   "source": [
    "a='manoj'\n",
    "b=['hello','hi','manoj']\n",
    "if a  in b:\n",
    "    print('True')"
   ]
  },
  {
   "cell_type": "code",
   "execution_count": 8,
   "metadata": {},
   "outputs": [
    {
     "name": "stdout",
     "output_type": "stream",
     "text": [
      "77\n"
     ]
    }
   ],
   "source": [
    "a='M'\n",
    "if type(a)==str:\n",
    "    print(ord(a))"
   ]
  },
  {
   "cell_type": "code",
   "execution_count": null,
   "metadata": {},
   "outputs": [],
   "source": []
  },
  {
   "cell_type": "code",
   "execution_count": null,
   "metadata": {},
   "outputs": [],
   "source": []
  },
  {
   "cell_type": "code",
   "execution_count": null,
   "metadata": {},
   "outputs": [],
   "source": []
  },
  {
   "cell_type": "markdown",
   "metadata": {},
   "source": [
    " # if else"
   ]
  },
  {
   "cell_type": "code",
   "execution_count": 9,
   "metadata": {},
   "outputs": [
    {
     "name": "stdout",
     "output_type": "stream",
     "text": [
      "even\n"
     ]
    }
   ],
   "source": [
    "a=8\n",
    "if a%2==0:\n",
    "    print('even')\n",
    "else:\n",
    "    print('not even')"
   ]
  },
  {
   "cell_type": "code",
   "execution_count": 10,
   "metadata": {},
   "outputs": [
    {
     "name": "stdout",
     "output_type": "stream",
     "text": [
      "odd\n"
     ]
    }
   ],
   "source": [
    "a=5\n",
    "if a%2==1:\n",
    "    print('odd')\n",
    "else:\n",
    "    print('not odd')"
   ]
  },
  {
   "cell_type": "code",
   "execution_count": 11,
   "metadata": {},
   "outputs": [
    {
     "name": "stdout",
     "output_type": "stream",
     "text": [
      "uppercase\n"
     ]
    }
   ],
   "source": [
    "a='M'\n",
    "if 'A'<=a<='Z':\n",
    "    print('uppercase')\n",
    "else:\n",
    "    print('not uppercase')"
   ]
  },
  {
   "cell_type": "code",
   "execution_count": 12,
   "metadata": {},
   "outputs": [
    {
     "name": "stdout",
     "output_type": "stream",
     "text": [
      "lowercase\n"
     ]
    }
   ],
   "source": [
    "a='m'\n",
    "if 'a'<=a<='z':\n",
    "    print('lowercase')\n",
    "else:\n",
    "    print('not lowercase')"
   ]
  },
  {
   "cell_type": "code",
   "execution_count": 13,
   "metadata": {},
   "outputs": [
    {
     "name": "stdout",
     "output_type": "stream",
     "text": [
      "number\n"
     ]
    }
   ],
   "source": [
    "a='2'\n",
    "if '0'<=a<='9':\n",
    "    print('number')\n",
    "else:\n",
    "    print('not number')"
   ]
  },
  {
   "cell_type": "code",
   "execution_count": 14,
   "metadata": {},
   "outputs": [
    {
     "name": "stdout",
     "output_type": "stream",
     "text": [
      "positive\n"
     ]
    }
   ],
   "source": [
    "ch=6\n",
    "if ch>0:\n",
    "    print('positive')\n",
    "else:\n",
    "    print('negative')"
   ]
  },
  {
   "cell_type": "code",
   "execution_count": 15,
   "metadata": {},
   "outputs": [
    {
     "name": "stdout",
     "output_type": "stream",
     "text": [
      "neutral\n"
     ]
    }
   ],
   "source": [
    "ch=0\n",
    "if ch>0:\n",
    "    print('positive')\n",
    "elif ch<0:\n",
    "    print('negative')\n",
    "else:\n",
    "    print('neutral')"
   ]
  },
  {
   "cell_type": "code",
   "execution_count": 16,
   "metadata": {},
   "outputs": [
    {
     "name": "stdout",
     "output_type": "stream",
     "text": [
      "palindrome\n"
     ]
    }
   ],
   "source": [
    "ch='malayalam'\n",
    "rev=ch[::-1]\n",
    "if ch==rev:\n",
    "    print('palindrome')\n",
    "else:\n",
    "    print('not palindrome')"
   ]
  },
  {
   "cell_type": "code",
   "execution_count": 53,
   "metadata": {},
   "outputs": [
    {
     "name": "stdout",
     "output_type": "stream",
     "text": [
      "special char\n"
     ]
    }
   ],
   "source": [
    "a='@'\n",
    "if not ('A'<=a<='Z' or 'a'<=a<='z' or '0'<=a<='9'):\n",
    "    print('special char')\n",
    "else:\n",
    "    print('no special char')"
   ]
  },
  {
   "cell_type": "code",
   "execution_count": 60,
   "metadata": {},
   "outputs": [
    {
     "name": "stdout",
     "output_type": "stream",
     "text": [
      "char having vowel\n"
     ]
    }
   ],
   "source": [
    "a='I'\n",
    "if a in 'aeiouAEIOU':\n",
    "    print('char having vowel')\n",
    "else:\n",
    "    print('no vowel')"
   ]
  },
  {
   "cell_type": "code",
   "execution_count": 74,
   "metadata": {},
   "outputs": [
    {
     "name": "stdout",
     "output_type": "stream",
     "text": [
      "enter the num: 101\n",
      "palindrome\n"
     ]
    }
   ],
   "source": [
    "num=int(input('enter the num: ' ))\n",
    "rev=str(num)\n",
    "if num==int(rev[::-1]):\n",
    "    print('palindrome')\n",
    "else:\n",
    "    print('not palindrome')"
   ]
  },
  {
   "cell_type": "code",
   "execution_count": null,
   "metadata": {},
   "outputs": [],
   "source": []
  },
  {
   "cell_type": "code",
   "execution_count": null,
   "metadata": {},
   "outputs": [],
   "source": []
  },
  {
   "cell_type": "code",
   "execution_count": null,
   "metadata": {},
   "outputs": [],
   "source": []
  },
  {
   "cell_type": "markdown",
   "metadata": {},
   "source": [
    "# if elif"
   ]
  },
  {
   "cell_type": "code",
   "execution_count": 17,
   "metadata": {},
   "outputs": [
    {
     "name": "stdout",
     "output_type": "stream",
     "text": [
      "special char\n"
     ]
    }
   ],
   "source": [
    "a='@'\n",
    "if 'A'<=a<='Z':\n",
    "    print('upper')\n",
    "elif 'a'<=a<='z':\n",
    "    print('lower')\n",
    "elif '0'<=a<='9':\n",
    "    print('number')\n",
    "else:\n",
    "    print('special char')"
   ]
  },
  {
   "cell_type": "code",
   "execution_count": 21,
   "metadata": {},
   "outputs": [
    {
     "name": "stdout",
     "output_type": "stream",
     "text": [
      "divisible by 5 only\n"
     ]
    }
   ],
   "source": [
    "a=20\n",
    "if a%3==0 and a%5==0:\n",
    "    print('divisble by 3 and 5')\n",
    "elif a%3==0:\n",
    "    print('divisible by 3 only')\n",
    "elif a%5==0:\n",
    "        print('divisible by 5 only')"
   ]
  },
  {
   "cell_type": "code",
   "execution_count": 47,
   "metadata": {},
   "outputs": [
    {
     "name": "stdout",
     "output_type": "stream",
     "text": [
      "float\n"
     ]
    }
   ],
   "source": [
    "a=2.3\n",
    "if type(a)==int:\n",
    "    print('int')\n",
    "elif type(a)==float:\n",
    "    print('float')\n",
    "elif type(a)==complex:\n",
    "    print('complex')\n",
    "elif type(a)==bool:\n",
    "    print('boolen')\n",
    "else:\n",
    "    print('its not a single value datatype ')"
   ]
  },
  {
   "cell_type": "code",
   "execution_count": 85,
   "metadata": {},
   "outputs": [
    {
     "name": "stdout",
     "output_type": "stream",
     "text": [
      "either alpha or numeric\n"
     ]
    }
   ],
   "source": [
    "a='Hj1'\n",
    "if a.isupper( ):\n",
    "    print('uppercase')\n",
    "elif a.islower( ):\n",
    "    print('lowercase')\n",
    "elif a.isnumeric( ):\n",
    "    print('number')\n",
    "elif a.isalnum():\n",
    "    print('either alpha or numeric')"
   ]
  },
  {
   "cell_type": "code",
   "execution_count": 90,
   "metadata": {},
   "outputs": [
    {
     "name": "stdout",
     "output_type": "stream",
     "text": [
      "special char\n"
     ]
    }
   ],
   "source": [
    "a='@'\n",
    "if not(a.isalnum()):\n",
    "    print('special char')\n",
    "if a.isupper( ):\n",
    "    print('uppercase')\n",
    "elif a.islower( ):\n",
    "    print('lowercase')\n",
    "elif a.isnumeric( ):\n",
    "    print('number')"
   ]
  },
  {
   "cell_type": "code",
   "execution_count": 101,
   "metadata": {},
   "outputs": [
    {
     "name": "stdout",
     "output_type": "stream",
     "text": [
      "enter the percentage:98\n",
      "FCD\n"
     ]
    }
   ],
   "source": [
    "a=int(input('enter the percentage:'))\n",
    "if a>85:\n",
    "    print('FCD')\n",
    "elif 75<=a<=85:\n",
    "    print('First class')\n",
    "elif 61<=a<=75:\n",
    "    print('second class')\n",
    "elif 45<=a<=60:\n",
    "    print('average')\n",
    "else:\n",
    "    print('Fail')"
   ]
  },
  {
   "cell_type": "code",
   "execution_count": 110,
   "metadata": {},
   "outputs": [
    {
     "name": "stdout",
     "output_type": "stream",
     "text": [
      "enter the num:-562\n",
      "three digit\n"
     ]
    }
   ],
   "source": [
    "a=int(input('enter the num:'))\n",
    "if 0<=a<=9 or -9<=a<=-1:\n",
    "    print('Single digit')\n",
    "elif 10<=a<=99 or -99<=a<=-10:\n",
    "    print('double digit')\n",
    "elif 100<=a<=999 or -999<=a<=-100:\n",
    "    print('three digit')\n",
    "else:\n",
    "    print('more than 3digit')"
   ]
  },
  {
   "cell_type": "code",
   "execution_count": 23,
   "metadata": {},
   "outputs": [
    {
     "name": "stdout",
     "output_type": "stream",
     "text": [
      "Enter the 1st Number:25\n",
      "Enter the required Operator:%\n",
      "Enter the 2nd Number:5\n",
      "0\n"
     ]
    }
   ],
   "source": [
    "input1 = int(input(\"Enter the 1st Number:\"))\n",
    "operator = input(\"Enter the required Operator:\")\n",
    "input2 = int(input(\"Enter the 2nd Number:\"))\n",
    "if operator == '+':\n",
    "    print(input1 + input2)\n",
    "elif operator == '-':\n",
    "    print(input1 - input2)\n",
    "elif operator == '*':\n",
    "    print(input1 * input2)\n",
    "elif operator == '/':\n",
    "    print(input1 / input2)\n",
    "elif operator == '//':\n",
    "    print(input1 // input2)\n",
    "elif operator == '%':\n",
    "    print(input1 % input2)\n",
    "else:\n",
    "    print('Invalid Operator')\n"
   ]
  },
  {
   "cell_type": "code",
   "execution_count": 24,
   "metadata": {},
   "outputs": [
    {
     "name": "stdout",
     "output_type": "stream",
     "text": [
      "Enter num1:23\n",
      "Enter num2:4\n",
      "Enter num3:45\n",
      "23 is the second greatest number\n"
     ]
    }
   ],
   "source": [
    "a = int(input(\"Enter num1:\"))\n",
    "b = int(input(\"Enter num2:\"))\n",
    "c = int(input(\"Enter num3:\"))\n",
    "if a >= b and a >= c:\n",
    "    if b >= c:\n",
    "        print(b, 'is the second greatest number')\n",
    "    else:\n",
    "        print(c, 'is the second greatest number')\n",
    "elif b >= a and b >= c:\n",
    "    if a >= c:\n",
    "        print(a, 'is the second greatest number')\n",
    "    else:\n",
    "        print(c, 'is the second greatest number')\n",
    "elif c >= a and c >= b:\n",
    "    if a >= b:\n",
    "        print(a, 'is the second greatest number')\n",
    "    else:\n",
    "        print(b, 'is the second greatest number')"
   ]
  },
  {
   "cell_type": "code",
   "execution_count": null,
   "metadata": {},
   "outputs": [],
   "source": []
  },
  {
   "cell_type": "markdown",
   "metadata": {},
   "source": [
    "# nested if"
   ]
  },
  {
   "cell_type": "code",
   "execution_count": 25,
   "metadata": {},
   "outputs": [
    {
     "name": "stdout",
     "output_type": "stream",
     "text": [
      "num is odd but not divisble by 5\n"
     ]
    }
   ],
   "source": [
    "a=17\n",
    "if a%2==1:\n",
    "    if a%5==0:\n",
    "        print('num is odd & divisible by 5')\n",
    "    else:\n",
    "        print('num is odd but not divisble by 5')\n",
    "else:\n",
    "    print('num is not odd')"
   ]
  },
  {
   "cell_type": "code",
   "execution_count": 31,
   "metadata": {},
   "outputs": [
    {
     "name": "stdout",
     "output_type": "stream",
     "text": [
      "num is even  but not mutiple of 9\n"
     ]
    }
   ],
   "source": [
    "a=20\n",
    "if a%2==0:\n",
    "    if a%9==0:\n",
    "        print('num is even & multiple of 9')\n",
    "    else:\n",
    "        print('num is even  but not mutiple of 9')\n",
    "else:\n",
    "    print('num is not even')"
   ]
  },
  {
   "cell_type": "code",
   "execution_count": 37,
   "metadata": {},
   "outputs": [
    {
     "name": "stdout",
     "output_type": "stream",
     "text": [
      "login sucessfully\n"
     ]
    }
   ],
   "source": [
    "user ='Manoj'\n",
    "pas='M@123'\n",
    "userid='Manoj'\n",
    "password='M@123'\n",
    "if user==userid:\n",
    "    if pas==password:\n",
    "        print('login sucessfully')\n",
    "    else:\n",
    "        print('invalid pass')\n",
    "else:\n",
    "    print('invalid user')"
   ]
  },
  {
   "cell_type": "code",
   "execution_count": 57,
   "metadata": {},
   "outputs": [
    {
     "name": "stdout",
     "output_type": "stream",
     "text": [
      "middle char is upper\n"
     ]
    }
   ],
   "source": [
    "a='stArs'\n",
    "if len(a)%2==1:\n",
    "    b=len(a)//2\n",
    "    if 'A'<=a[b]<='Z':\n",
    "        print('middle char is upper')\n",
    "    else:\n",
    "        print('middle char is not upper')\n",
    "else:\n",
    "    print('char is even ,so cannot find the middle values ')"
   ]
  },
  {
   "cell_type": "code",
   "execution_count": 63,
   "metadata": {},
   "outputs": [
    {
     "name": "stdout",
     "output_type": "stream",
     "text": [
      "hi\n"
     ]
    }
   ],
   "source": [
    "a=[1,2,5.5,'hi',3+4j,True,38]\n",
    "if len(a)%2!=0:\n",
    "    if type(a[len(a)//2])==str:\n",
    "        print(a[len(a)//2])\n",
    "    else:\n",
    "        print(len(a)//2)\n",
    "else:\n",
    "    print('list doesnot have middle value')"
   ]
  },
  {
   "cell_type": "code",
   "execution_count": 64,
   "metadata": {},
   "outputs": [
    {
     "name": "stdout",
     "output_type": "stream",
     "text": [
      "[14, 16, 18, 20, 22]\n"
     ]
    }
   ],
   "source": [
    "a=[2,4,6,8,10,12,14,16,18,20,22]\n",
    "out=[]\n",
    "if len(a)%2==1:\n",
    "    b=len(a)//2\n",
    "    for i in range(b+1,len(a)):\n",
    "        out=out+[a[i]]\n",
    "    print(out)\n",
    "else:\n",
    "    print('no middle value')"
   ]
  },
  {
   "cell_type": "code",
   "execution_count": 70,
   "metadata": {},
   "outputs": [
    {
     "name": "stdout",
     "output_type": "stream",
     "text": [
      "even length string & 1st char having special symbol \n"
     ]
    }
   ],
   "source": [
    "a='@manoj'\n",
    "if len(a)%2==0:\n",
    "    if not ('A'<=a<='Z' or 'a'<=a<='z' or '0'<=a<='9'):\n",
    "        print('even length string & 1st char having special symbol ')\n",
    "    else:\n",
    "        print(' even length  string but no special char')"
   ]
  },
  {
   "cell_type": "code",
   "execution_count": null,
   "metadata": {},
   "outputs": [],
   "source": []
  },
  {
   "cell_type": "code",
   "execution_count": null,
   "metadata": {},
   "outputs": [],
   "source": []
  },
  {
   "cell_type": "code",
   "execution_count": null,
   "metadata": {},
   "outputs": [],
   "source": []
  },
  {
   "cell_type": "markdown",
   "metadata": {},
   "source": [
    "# while loop"
   ]
  },
  {
   "cell_type": "code",
   "execution_count": 111,
   "metadata": {},
   "outputs": [
    {
     "name": "stdout",
     "output_type": "stream",
     "text": [
      "hello\n",
      "hello\n",
      "hello\n",
      "hello\n",
      "hello\n",
      "hello\n",
      "hello\n",
      "hello\n",
      "hello\n",
      "hello\n"
     ]
    }
   ],
   "source": [
    "i=0\n",
    "while i<10:\n",
    "    print(\"hello\")\n",
    "    i+=1"
   ]
  },
  {
   "cell_type": "code",
   "execution_count": 112,
   "metadata": {},
   "outputs": [
    {
     "name": "stdout",
     "output_type": "stream",
     "text": [
      "enter the num:5\n",
      "1\n",
      "2\n",
      "3\n",
      "4\n",
      "5\n"
     ]
    }
   ],
   "source": [
    "n=int(input('enter the num:'))\n",
    "i=1\n",
    "while i<=n:\n",
    "    print(i)\n",
    "    i+=1"
   ]
  },
  {
   "cell_type": "code",
   "execution_count": 113,
   "metadata": {},
   "outputs": [
    {
     "name": "stdout",
     "output_type": "stream",
     "text": [
      "enter the num:5\n",
      "1\n",
      "4\n",
      "9\n",
      "16\n",
      "25\n"
     ]
    }
   ],
   "source": [
    "n=int(input('enter the num:'))\n",
    "i=1\n",
    "while i<=n:\n",
    "    print(i**2)\n",
    "    i+=1"
   ]
  },
  {
   "cell_type": "code",
   "execution_count": 114,
   "metadata": {},
   "outputs": [
    {
     "name": "stdout",
     "output_type": "stream",
     "text": [
      "enter the num:5\n",
      "1\n",
      "4\n",
      "9\n",
      "16\n",
      "25\n"
     ]
    }
   ],
   "source": [
    "n=int(input('enter the num:'))\n",
    "i=1\n",
    "while i<=n:\n",
    "    print(i*i)\n",
    "    i+=1"
   ]
  },
  {
   "cell_type": "code",
   "execution_count": 1,
   "metadata": {},
   "outputs": [
    {
     "name": "stdout",
     "output_type": "stream",
     "text": [
      "2\n",
      "4\n",
      "6\n",
      "8\n",
      "10\n",
      "12\n",
      "14\n",
      "16\n",
      "18\n",
      "20\n",
      "22\n",
      "24\n",
      "26\n",
      "28\n",
      "30\n",
      "32\n",
      "34\n",
      "36\n",
      "38\n",
      "40\n",
      "42\n",
      "44\n",
      "46\n",
      "48\n",
      "50\n",
      "52\n",
      "54\n",
      "56\n",
      "58\n",
      "60\n",
      "62\n",
      "64\n",
      "66\n",
      "68\n",
      "70\n",
      "72\n",
      "74\n",
      "76\n",
      "78\n",
      "80\n",
      "82\n",
      "84\n",
      "86\n",
      "88\n",
      "90\n",
      "92\n",
      "94\n",
      "96\n",
      "98\n",
      "100\n"
     ]
    }
   ],
   "source": [
    "i=1\n",
    "while i<=100:\n",
    "    if i%2==0:\n",
    "        print(i)\n",
    "    i+=1"
   ]
  },
  {
   "cell_type": "code",
   "execution_count": 2,
   "metadata": {},
   "outputs": [
    {
     "name": "stdout",
     "output_type": "stream",
     "text": [
      "1\n",
      "3\n",
      "5\n",
      "7\n",
      "9\n",
      "11\n",
      "13\n",
      "15\n",
      "17\n",
      "19\n",
      "21\n",
      "23\n",
      "25\n",
      "27\n",
      "29\n",
      "31\n",
      "33\n",
      "35\n",
      "37\n",
      "39\n",
      "41\n",
      "43\n",
      "45\n",
      "47\n",
      "49\n",
      "51\n",
      "53\n",
      "55\n",
      "57\n",
      "59\n",
      "61\n",
      "63\n",
      "65\n",
      "67\n",
      "69\n",
      "71\n",
      "73\n",
      "75\n",
      "77\n",
      "79\n",
      "81\n",
      "83\n",
      "85\n",
      "87\n",
      "89\n",
      "91\n",
      "93\n",
      "95\n",
      "97\n",
      "99\n"
     ]
    }
   ],
   "source": [
    "i=1\n",
    "while i<=100:\n",
    "    if i%2==1:\n",
    "        print(i)\n",
    "    i+=1"
   ]
  },
  {
   "cell_type": "code",
   "execution_count": 3,
   "metadata": {},
   "outputs": [
    {
     "name": "stdout",
     "output_type": "stream",
     "text": [
      "5\n",
      "10\n",
      "15\n",
      "20\n",
      "25\n",
      "30\n",
      "35\n",
      "40\n",
      "45\n",
      "50\n"
     ]
    }
   ],
   "source": [
    "i=1\n",
    "while i<=50:\n",
    "    if i%5==0:\n",
    "        print(i)\n",
    "    i+=1"
   ]
  },
  {
   "cell_type": "code",
   "execution_count": 4,
   "metadata": {},
   "outputs": [
    {
     "name": "stdout",
     "output_type": "stream",
     "text": [
      "enter the number:10\n",
      "55\n"
     ]
    }
   ],
   "source": [
    "n=int(input(\"enter the number:\"))\n",
    "i=1\n",
    "sum=0\n",
    "while i<=n:\n",
    "    sum=sum+i\n",
    "    i+=1\n",
    "print(sum)"
   ]
  },
  {
   "cell_type": "code",
   "execution_count": 9,
   "metadata": {},
   "outputs": [
    {
     "name": "stdout",
     "output_type": "stream",
     "text": [
      "2\n",
      "4\n",
      "454\n",
      "12124\n",
      "2\n",
      "46\n",
      "2\n",
      "6\n",
      "4\n"
     ]
    }
   ],
   "source": [
    "a=[1,2,4,5,454,12124,1,2,46,89,75,2,6,4]\n",
    "i=0\n",
    "while i<len(a):\n",
    "    if a[i]%2==0:\n",
    "        print(a[i])\n",
    "    i+=1"
   ]
  },
  {
   "cell_type": "code",
   "execution_count": 10,
   "metadata": {},
   "outputs": [
    {
     "name": "stdout",
     "output_type": "stream",
     "text": [
      "manoj\n",
      "hb\n"
     ]
    }
   ],
   "source": [
    "a=[\"manoj\",10,5.2,\"hb\"]\n",
    "i=0\n",
    "while i<len(a):\n",
    "    if type(a[i])==str:\n",
    "        print(a[i])\n",
    "    i+=1"
   ]
  },
  {
   "cell_type": "code",
   "execution_count": 11,
   "metadata": {},
   "outputs": [
    {
     "name": "stdout",
     "output_type": "stream",
     "text": [
      "5.2\n",
      "5.6\n",
      "8.9\n"
     ]
    }
   ],
   "source": [
    "a=[\"manoj\",10,5.2,\"hb\",5.6,8.9]\n",
    "i=0\n",
    "while i<len(a):\n",
    "    if type(a[i])==float:\n",
    "        print(a[i])\n",
    "    i+=1"
   ]
  },
  {
   "cell_type": "code",
   "execution_count": 12,
   "metadata": {},
   "outputs": [
    {
     "name": "stdout",
     "output_type": "stream",
     "text": [
      "P\n",
      "T\n",
      "O\n"
     ]
    }
   ],
   "source": [
    "a='PyThOn'\n",
    "i=0\n",
    "while i<len(a):\n",
    "    if 'A'<=a[i]<='Z':\n",
    "        print(a[i])\n",
    "    i+=1"
   ]
  },
  {
   "cell_type": "code",
   "execution_count": 14,
   "metadata": {},
   "outputs": [
    {
     "name": "stdout",
     "output_type": "stream",
     "text": [
      "11\n"
     ]
    }
   ],
   "source": [
    "a=[10,2,0,454,4,545,45,45,4,54,554]\n",
    "i=0\n",
    "count=0\n",
    "while i<len(a):\n",
    "    count+=1\n",
    "    i+=1\n",
    "print(count)  "
   ]
  },
  {
   "cell_type": "code",
   "execution_count": 17,
   "metadata": {},
   "outputs": [
    {
     "name": "stdout",
     "output_type": "stream",
     "text": [
      "[10, 0, 4, 45, 4, 5541, 5]\n"
     ]
    }
   ],
   "source": [
    "a=[10,2,0,454,4,545,45,45,4,54,5541,3,5]\n",
    "i=0\n",
    "out=[]\n",
    "while i<len(a):\n",
    "    if i%2==0:\n",
    "        out+=[a[i]]\n",
    "    i+=1\n",
    "print(out)"
   ]
  },
  {
   "cell_type": "code",
   "execution_count": 18,
   "metadata": {},
   "outputs": [
    {
     "name": "stdout",
     "output_type": "stream",
     "text": [
      "[2, 454, 545, 45, 54, 3]\n"
     ]
    }
   ],
   "source": [
    "a=[10,2,0,454,4,545,45,45,4,54,5541,3,5]\n",
    "i=0\n",
    "out=[]\n",
    "while i<len(a):\n",
    "    if i%2==1:\n",
    "        out+=[a[i]]\n",
    "    i+=1\n",
    "print(out)"
   ]
  },
  {
   "cell_type": "code",
   "execution_count": 1,
   "metadata": {},
   "outputs": [
    {
     "name": "stdout",
     "output_type": "stream",
     "text": [
      "&&**##@@\n"
     ]
    }
   ],
   "source": [
    "a=\"pyth&&**##on@@\"\n",
    "i=0\n",
    "out=\"\"\n",
    "while i<len(a):\n",
    "    if not('A'<=a[i]<='Z' or 'a'<=a[i]<='z' or '0'<=a[i]<='9'):\n",
    "        out+=a[i]\n",
    "    i+=1\n",
    "print(out)"
   ]
  },
  {
   "cell_type": "code",
   "execution_count": 4,
   "metadata": {},
   "outputs": [
    {
     "name": "stdout",
     "output_type": "stream",
     "text": [
      "MANOJ&&**##@@MANOJ\n"
     ]
    }
   ],
   "source": [
    "a=\"MANOJpyth&&**##on@@MANOJ\"\n",
    "i=0\n",
    "out=\"\"\n",
    "while i<len(a):\n",
    "    if not('a'<=a[i]<='z' or '0'<=a[i]<='9'):\n",
    "        out+=a[i]\n",
    "    i+=1\n",
    "print(out)"
   ]
  },
  {
   "cell_type": "code",
   "execution_count": 6,
   "metadata": {},
   "outputs": [
    {
     "name": "stdout",
     "output_type": "stream",
     "text": [
      "JONAM\n"
     ]
    }
   ],
   "source": [
    "a=\"MANOJ\"\n",
    "i=0\n",
    "out=\"\"\n",
    "while i<len(a):\n",
    "    out=a[i]+out\n",
    "    i+=1\n",
    "print(out)"
   ]
  },
  {
   "cell_type": "code",
   "execution_count": 18,
   "metadata": {},
   "outputs": [
    {
     "name": "stdout",
     "output_type": "stream",
     "text": [
      "palindrome\n"
     ]
    }
   ],
   "source": [
    "a=\"MALAYALAM\"\n",
    "i=0\n",
    "out=\"\"\n",
    "while i<len(a):\n",
    "    out=a[i]+out\n",
    "    i+=1\n",
    "if out==a:\n",
    "    print(\"palindrome\")\n",
    "else:\n",
    "    print(\"not palindrome\")"
   ]
  },
  {
   "cell_type": "code",
   "execution_count": 26,
   "metadata": {},
   "outputs": [
    {
     "name": "stdout",
     "output_type": "stream",
     "text": [
      "enter the number:5\n",
      "120\n"
     ]
    }
   ],
   "source": [
    "n=int(input(\"enter the number:\"))\n",
    "i=1\n",
    "fact=1\n",
    "while i<=n:\n",
    "    fact=fact*i\n",
    "    i+=1\n",
    "print(fact)"
   ]
  },
  {
   "cell_type": "code",
   "execution_count": 27,
   "metadata": {},
   "outputs": [
    {
     "name": "stdout",
     "output_type": "stream",
     "text": [
      "3\n",
      "6\n",
      "9\n",
      "12\n",
      "15\n",
      "18\n",
      "21\n",
      "24\n",
      "27\n",
      "30\n",
      "33\n",
      "36\n",
      "39\n",
      "42\n",
      "45\n",
      "48\n"
     ]
    }
   ],
   "source": [
    "i=1\n",
    "while i<=50:\n",
    "    if i%3==0:\n",
    "        print(i)\n",
    "    i+=1"
   ]
  },
  {
   "cell_type": "code",
   "execution_count": 28,
   "metadata": {},
   "outputs": [
    {
     "name": "stdout",
     "output_type": "stream",
     "text": [
      "[7, 14, 21, 28, 35, 42, 49, 56, 63, 70, 77, 84, 91, 98]\n"
     ]
    }
   ],
   "source": [
    "i=1\n",
    "out=[]\n",
    "while i<=100:\n",
    "    if i%7==0:\n",
    "        out+=[i]\n",
    "    i+=1\n",
    "print(out)"
   ]
  },
  {
   "cell_type": "code",
   "execution_count": 7,
   "metadata": {},
   "outputs": [
    {
     "name": "stdout",
     "output_type": "stream",
     "text": [
      "0\n",
      "1\n",
      "1\n",
      "2\n",
      "3\n",
      "5\n",
      "8\n",
      "13\n",
      "21\n",
      "34\n"
     ]
    }
   ],
   "source": [
    "a=0\n",
    "b=1\n",
    "print(a)\n",
    "print(b)\n",
    "while b<25:\n",
    "    n=a+b\n",
    "    a=b\n",
    "    b=n\n",
    "    print(n)"
   ]
  },
  {
   "cell_type": "code",
   "execution_count": 91,
   "metadata": {},
   "outputs": [
    {
     "name": "stdout",
     "output_type": "stream",
     "text": [
      "15\n"
     ]
    }
   ],
   "source": [
    "k=[1,2,3,4,5]\n",
    "sum=0\n",
    "i=0\n",
    "while i<len(k):\n",
    "    sum=sum+k[i]\n",
    "    i+=1\n",
    "print(sum)"
   ]
  },
  {
   "cell_type": "code",
   "execution_count": 94,
   "metadata": {},
   "outputs": [
    {
     "name": "stdout",
     "output_type": "stream",
     "text": [
      "20\n"
     ]
    }
   ],
   "source": [
    "k=[2,4,6,8]\n",
    "sum=0\n",
    "i=0\n",
    "while i<len(k):\n",
    "    if k[i]%2==0:\n",
    "        sum=sum+k[i]\n",
    "    i+=1\n",
    "print(sum)"
   ]
  },
  {
   "cell_type": "code",
   "execution_count": 1,
   "metadata": {},
   "outputs": [
    {
     "name": "stdout",
     "output_type": "stream",
     "text": [
      "enter the num:5\n",
      "5 * 1 = 5\n",
      "5 * 2 = 10\n",
      "5 * 3 = 15\n",
      "5 * 4 = 20\n",
      "5 * 5 = 25\n",
      "5 * 6 = 30\n",
      "5 * 7 = 35\n",
      "5 * 8 = 40\n",
      "5 * 9 = 45\n",
      "5 * 10 = 50\n"
     ]
    }
   ],
   "source": [
    "n=int(input('enter the num:'))\n",
    "i=1\n",
    "while i<=10:\n",
    "    print(n,'*',i,'=',n*i)\n",
    "    i+=1"
   ]
  },
  {
   "cell_type": "code",
   "execution_count": 1,
   "metadata": {},
   "outputs": [
    {
     "name": "stdout",
     "output_type": "stream",
     "text": [
      "enter the num:5\n",
      "1 * 5 = 5\n",
      "2 * 5 = 10\n",
      "3 * 5 = 15\n",
      "4 * 5 = 20\n",
      "5 * 5 = 25\n",
      "6 * 5 = 30\n",
      "7 * 5 = 35\n",
      "8 * 5 = 40\n",
      "9 * 5 = 45\n",
      "10 * 5 = 50\n"
     ]
    }
   ],
   "source": [
    "n=int(input('enter the num:'))\n",
    "i=1\n",
    "while i<=10:\n",
    "    print(i,'*',n,'=',n*i)\n",
    "    i+=1"
   ]
  },
  {
   "cell_type": "code",
   "execution_count": 2,
   "metadata": {},
   "outputs": [
    {
     "name": "stdout",
     "output_type": "stream",
     "text": [
      "enter the num:5\n",
      "1*5=5\n",
      "2*5=10\n",
      "3*5=15\n",
      "4*5=20\n",
      "5*5=25\n",
      "6*5=30\n",
      "7*5=35\n",
      "8*5=40\n",
      "9*5=45\n",
      "10*5=50\n"
     ]
    }
   ],
   "source": [
    "n=int(input('enter the num:'))\n",
    "i=1\n",
    "while i<=10:\n",
    "    print(f'{i}*{n}={i*n}')\n",
    "    i+=1"
   ]
  },
  {
   "cell_type": "code",
   "execution_count": 2,
   "metadata": {},
   "outputs": [
    {
     "name": "stdout",
     "output_type": "stream",
     "text": [
      "hello world\n",
      "hello world\n",
      "hello world\n",
      "hello world\n",
      "hello world\n",
      "hello world\n",
      "hello world\n",
      "hello world\n",
      "hello world\n",
      "hello world\n"
     ]
    }
   ],
   "source": [
    "i=0\n",
    "while i<10:\n",
    "    print('hello world')\n",
    "    i+=1"
   ]
  },
  {
   "cell_type": "code",
   "execution_count": 3,
   "metadata": {},
   "outputs": [
    {
     "name": "stdout",
     "output_type": "stream",
     "text": [
      "u\n",
      "a\n",
      "a\n"
     ]
    }
   ],
   "source": [
    "a='sujathajb'\n",
    "i=0\n",
    "while i<len(a):\n",
    "    if a[i] in 'AEIOUaeiou':\n",
    "        print(a[i])\n",
    "    i+=1"
   ]
  },
  {
   "cell_type": "code",
   "execution_count": 4,
   "metadata": {},
   "outputs": [
    {
     "name": "stdout",
     "output_type": "stream",
     "text": [
      "21\n"
     ]
    }
   ],
   "source": [
    "a=[1,2,3,4,5,6]\n",
    "i=0\n",
    "sum=0\n",
    "while i <len(a):\n",
    "    sum=sum+a[i]\n",
    "    i+=1\n",
    "print(sum)"
   ]
  },
  {
   "cell_type": "code",
   "execution_count": 5,
   "metadata": {},
   "outputs": [
    {
     "name": "stdout",
     "output_type": "stream",
     "text": [
      "30\n"
     ]
    }
   ],
   "source": [
    "a=[1,2,3,4,5,6,10,8]\n",
    "i=0\n",
    "sum=0\n",
    "while i <len(a):\n",
    "    if a[i]%2==0:\n",
    "        sum=sum+a[i]\n",
    "    i+=1\n",
    "print(sum)"
   ]
  },
  {
   "cell_type": "code",
   "execution_count": 6,
   "metadata": {},
   "outputs": [
    {
     "name": "stdout",
     "output_type": "stream",
     "text": [
      "enter the num: 10\n",
      "0\n",
      "1\n",
      "2\n",
      "3\n",
      "4\n",
      "5\n",
      "6\n",
      "7\n",
      "8\n",
      "9\n",
      "10\n"
     ]
    }
   ],
   "source": [
    "n=int(input('enter the num: '))\n",
    "i=0\n",
    "while i <=n:\n",
    "    print(i)\n",
    "    i+=1"
   ]
  },
  {
   "cell_type": "code",
   "execution_count": 7,
   "metadata": {},
   "outputs": [
    {
     "name": "stdout",
     "output_type": "stream",
     "text": [
      "enter the num: 10\n",
      "0\n",
      "2\n",
      "4\n",
      "6\n",
      "8\n"
     ]
    }
   ],
   "source": [
    "n=int(input('enter the num: '))\n",
    "i=0\n",
    "while i<n:\n",
    "    if i %2==0:\n",
    "        print(i)\n",
    "    i+=1"
   ]
  },
  {
   "cell_type": "code",
   "execution_count": 3,
   "metadata": {},
   "outputs": [
    {
     "name": "stdout",
     "output_type": "stream",
     "text": [
      "heter\n"
     ]
    }
   ],
   "source": [
    "n=['python',10,20,30,'program']\n",
    "flag=0\n",
    "i=1\n",
    "while i <len(n):\n",
    "    if type(n[0])!=type(n[i]):\n",
    "        flag=1\n",
    "    i+=1\n",
    "if flag==1:\n",
    "    print(\"heter\")\n",
    "else:\n",
    "    print(\"homo\")"
   ]
  },
  {
   "cell_type": "code",
   "execution_count": 4,
   "metadata": {},
   "outputs": [
    {
     "name": "stdout",
     "output_type": "stream",
     "text": [
      "homo\n"
     ]
    }
   ],
   "source": [
    "n=[10,20,30]\n",
    "flag=0\n",
    "i=1\n",
    "while i <len(n):\n",
    "    if type(n[0])!=type(n[i]):\n",
    "        flag=1\n",
    "    i+=1\n",
    "if flag==1:\n",
    "    print(\"heter\")\n",
    "else:\n",
    "    print(\"homo\")"
   ]
  },
  {
   "cell_type": "code",
   "execution_count": 4,
   "metadata": {},
   "outputs": [
    {
     "name": "stdout",
     "output_type": "stream",
     "text": [
      "entter the  num:25\n",
      "52\n"
     ]
    }
   ],
   "source": [
    "n=int(input('entter the  num:'))\n",
    "rev=0\n",
    "while n!=0:\n",
    "    rev=rev*10+n%10\n",
    "    n//=10\n",
    "print(rev)"
   ]
  },
  {
   "cell_type": "code",
   "execution_count": 6,
   "metadata": {},
   "outputs": [
    {
     "name": "stdout",
     "output_type": "stream",
     "text": [
      "enter the  num:123\n",
      "321\n",
      "1\n",
      "3\n",
      "107\n",
      "321\n"
     ]
    }
   ],
   "source": [
    "n=int(input('enter the  num:'))\n",
    "rev=0\n",
    "while n!=0:\n",
    "    rev=rev*10+n%10\n",
    "    n//=10\n",
    "print(rev)\n",
    "    \n",
    "i=1\n",
    "while i<=rev:\n",
    "    if rev%i==0:\n",
    "        print(i)\n",
    "    i+=1"
   ]
  },
  {
   "cell_type": "code",
   "execution_count": 8,
   "metadata": {},
   "outputs": [
    {
     "name": "stdout",
     "output_type": "stream",
     "text": [
      "enter the  num:25\n",
      "reversed format of given input is :52\n",
      "1\n",
      "2\n",
      "4\n",
      "13\n",
      "26\n",
      "52\n"
     ]
    }
   ],
   "source": [
    "n=int(input('enter the  num:'))\n",
    "rev=0\n",
    "while n!=0:\n",
    "    rev=rev*10+n%10\n",
    "    n//=10\n",
    "print(f'reversed format of given input is :{rev}')\n",
    "    \n",
    "i=1\n",
    "while i<=rev:\n",
    "    if rev%i==0:\n",
    "        print(i)\n",
    "    i+=1"
   ]
  },
  {
   "cell_type": "code",
   "execution_count": 1,
   "metadata": {},
   "outputs": [
    {
     "name": "stdout",
     "output_type": "stream",
     "text": [
      "enter the num: 10\n",
      "1\n",
      "2\n",
      "5\n",
      "10\n"
     ]
    }
   ],
   "source": [
    "a=int(input('enter the num: '))\n",
    "i=1\n",
    "while i<=a:\n",
    "    if a%i==0:\n",
    "        print(i)\n",
    "    i+=1"
   ]
  },
  {
   "cell_type": "code",
   "execution_count": 5,
   "metadata": {},
   "outputs": [
    {
     "name": "stdout",
     "output_type": "stream",
     "text": [
      "enter the num: 321\n",
      "1\n",
      "3\n",
      "107\n",
      "321\n"
     ]
    }
   ],
   "source": [
    "a=int(input('enter the num: '))\n",
    "i=1\n",
    "while i<=a:\n",
    "    if a%i==0:\n",
    "        print(i)\n",
    "    i+=1"
   ]
  },
  {
   "cell_type": "code",
   "execution_count": 7,
   "metadata": {},
   "outputs": [
    {
     "name": "stdout",
     "output_type": "stream",
     "text": [
      "enter the  num:121\n",
      "palindrome\n"
     ]
    }
   ],
   "source": [
    "n=int(input('enter the  num:'))\n",
    "rev=0\n",
    "j=n\n",
    "while n!=0:\n",
    "    rev=rev*10+n%10\n",
    "    n//=10\n",
    "if rev==j:\n",
    "    print(\"palindrome\")\n",
    "else:\n",
    "    print(\"not palindrome\")"
   ]
  },
  {
   "cell_type": "code",
   "execution_count": 8,
   "metadata": {},
   "outputs": [
    {
     "name": "stdout",
     "output_type": "stream",
     "text": [
      "enter the  num:130\n",
      "not palindrome\n"
     ]
    }
   ],
   "source": [
    "n=int(input('enter the  num:'))\n",
    "rev=0\n",
    "j=n\n",
    "while n!=0:\n",
    "    rev=rev*10+n%10\n",
    "    n//=10\n",
    "if rev==j:\n",
    "    print(\"palindrome\")\n",
    "else:\n",
    "    print(\"not palindrome\")"
   ]
  },
  {
   "cell_type": "code",
   "execution_count": null,
   "metadata": {},
   "outputs": [],
   "source": []
  },
  {
   "cell_type": "code",
   "execution_count": null,
   "metadata": {},
   "outputs": [],
   "source": []
  },
  {
   "cell_type": "code",
   "execution_count": null,
   "metadata": {},
   "outputs": [],
   "source": []
  },
  {
   "cell_type": "markdown",
   "metadata": {},
   "source": [
    "# for loop"
   ]
  },
  {
   "cell_type": "code",
   "execution_count": 229,
   "metadata": {},
   "outputs": [
    {
     "name": "stdout",
     "output_type": "stream",
     "text": [
      "1\n",
      "2\n",
      "3\n",
      "4\n",
      "5\n"
     ]
    }
   ],
   "source": [
    "a=[1,2,3,4,5]\n",
    "for i in a:\n",
    "    print(i)"
   ]
  },
  {
   "cell_type": "code",
   "execution_count": 230,
   "metadata": {},
   "outputs": [
    {
     "name": "stdout",
     "output_type": "stream",
     "text": [
      "1\n",
      "2\n",
      "3\n",
      "4\n",
      "5\n"
     ]
    }
   ],
   "source": [
    "for i in [1,2,3,4,5]:\n",
    "    print(i)"
   ]
  },
  {
   "cell_type": "code",
   "execution_count": 231,
   "metadata": {},
   "outputs": [
    {
     "name": "stdout",
     "output_type": "stream",
     "text": [
      "1\n",
      "2\n",
      "3\n",
      "4\n",
      "5\n"
     ]
    }
   ],
   "source": [
    "for i in [1,2,3,4,5]:\n",
    "    print(i)"
   ]
  },
  {
   "cell_type": "code",
   "execution_count": 232,
   "metadata": {},
   "outputs": [
    {
     "name": "stdout",
     "output_type": "stream",
     "text": [
      "1\n",
      "2\n",
      "3\n",
      "4\n",
      "5\n"
     ]
    }
   ],
   "source": [
    "for i in (1,2,3,4,5):\n",
    "    print(i)"
   ]
  },
  {
   "cell_type": "code",
   "execution_count": 233,
   "metadata": {},
   "outputs": [
    {
     "name": "stdout",
     "output_type": "stream",
     "text": [
      "1\n",
      "2\n",
      "3\n",
      "4\n",
      "5\n"
     ]
    }
   ],
   "source": [
    "for i in {1,2,3,4,5}:\n",
    "    print(i)"
   ]
  },
  {
   "cell_type": "code",
   "execution_count": 234,
   "metadata": {},
   "outputs": [
    {
     "name": "stdout",
     "output_type": "stream",
     "text": [
      "a\n",
      "b\n",
      "c\n"
     ]
    }
   ],
   "source": [
    "for i in {'a':1,'b':2,'c':3}:\n",
    "    print(i)"
   ]
  },
  {
   "cell_type": "code",
   "execution_count": 235,
   "metadata": {},
   "outputs": [
    {
     "name": "stdout",
     "output_type": "stream",
     "text": [
      "1\n",
      "2\n",
      "3\n"
     ]
    }
   ],
   "source": [
    "a={'a':1,'b':2,'c':3}\n",
    "for i in a:\n",
    "    print(a[i])"
   ]
  },
  {
   "cell_type": "code",
   "execution_count": 236,
   "metadata": {},
   "outputs": [
    {
     "name": "stdout",
     "output_type": "stream",
     "text": [
      "m\n",
      "a\n",
      "n\n",
      "o\n",
      "j\n"
     ]
    }
   ],
   "source": [
    "for i in \"manoj\":\n",
    "    print(i)"
   ]
  },
  {
   "cell_type": "code",
   "execution_count": 237,
   "metadata": {},
   "outputs": [
    {
     "name": "stdout",
     "output_type": "stream",
     "text": [
      "0\n",
      "1\n",
      "2\n",
      "3\n",
      "4\n",
      "5\n",
      "6\n",
      "7\n",
      "8\n",
      "9\n"
     ]
    }
   ],
   "source": [
    "for i in range(10):\n",
    "    print(i)"
   ]
  },
  {
   "cell_type": "code",
   "execution_count": 238,
   "metadata": {},
   "outputs": [
    {
     "name": "stdout",
     "output_type": "stream",
     "text": [
      "10\n",
      "11\n",
      "12\n",
      "13\n"
     ]
    }
   ],
   "source": [
    "for i in range(10,14):\n",
    "    print(i)"
   ]
  },
  {
   "cell_type": "code",
   "execution_count": 239,
   "metadata": {},
   "outputs": [
    {
     "name": "stdout",
     "output_type": "stream",
     "text": [
      "P\n",
      "T\n",
      "O\n",
      "N\n"
     ]
    }
   ],
   "source": [
    "a=\"PyThON\"\n",
    "for i in a:\n",
    "    if 'A'<=i<='Z':\n",
    "        print(i)"
   ]
  },
  {
   "cell_type": "code",
   "execution_count": 240,
   "metadata": {},
   "outputs": [
    {
     "name": "stdout",
     "output_type": "stream",
     "text": [
      "MJ\n"
     ]
    }
   ],
   "source": [
    "a=\"ManoJ\"\n",
    "out=\"\"\n",
    "for i in a:\n",
    "    if 'A'<=i<='Z':\n",
    "        out=out+i\n",
    "print(out)"
   ]
  },
  {
   "cell_type": "code",
   "execution_count": 241,
   "metadata": {},
   "outputs": [
    {
     "name": "stdout",
     "output_type": "stream",
     "text": [
      "A\n",
      "O\n"
     ]
    }
   ],
   "source": [
    "a=\"MANOj\"\n",
    "for i in a:\n",
    "    if i in 'AEIOUaeiou':\n",
    "        print(i)"
   ]
  },
  {
   "cell_type": "code",
   "execution_count": 242,
   "metadata": {},
   "outputs": [
    {
     "name": "stdout",
     "output_type": "stream",
     "text": [
      "1\n",
      "5\n",
      "7\n",
      "5\n",
      "85\n",
      "8787\n"
     ]
    }
   ],
   "source": [
    "a=[1,24,5,6,7,5,6,85,8787]\n",
    "for i in a:\n",
    "    if i%2==1:\n",
    "        print(i)"
   ]
  },
  {
   "cell_type": "code",
   "execution_count": 243,
   "metadata": {},
   "outputs": [
    {
     "name": "stdout",
     "output_type": "stream",
     "text": [
      "20\n"
     ]
    }
   ],
   "source": [
    "a=[78,9,84,5,6,8,5,9,5,6,5,2,6,87,87,87,45,41,21,1]\n",
    "count=0\n",
    "for i in a:\n",
    "    count=count+1\n",
    "print(count)"
   ]
  },
  {
   "cell_type": "code",
   "execution_count": 244,
   "metadata": {},
   "outputs": [
    {
     "name": "stdout",
     "output_type": "stream",
     "text": [
      "6\n"
     ]
    }
   ],
   "source": [
    "a=\"east or west python is the best\"\n",
    "count=0\n",
    "for i in a:\n",
    "    if i==\" \":\n",
    "        count+=1\n",
    "print(count)"
   ]
  },
  {
   "cell_type": "code",
   "execution_count": 245,
   "metadata": {},
   "outputs": [
    {
     "name": "stdout",
     "output_type": "stream",
     "text": [
      "10\n"
     ]
    }
   ],
   "source": [
    "a=[\"apple\",1,4,3,4+5j,True,6,7,6.5]\n",
    "sum=0\n",
    "for i in range(len(a)):\n",
    "    if i%2==0 and type(a[i])==int:\n",
    "        sum=sum+a[i]\n",
    "print(sum)"
   ]
  },
  {
   "cell_type": "code",
   "execution_count": 246,
   "metadata": {},
   "outputs": [
    {
     "name": "stdout",
     "output_type": "stream",
     "text": [
      "@\n",
      "$\n",
      "$\n",
      "#\n",
      "#\n",
      "#\n"
     ]
    }
   ],
   "source": [
    "a=\"BTM@banga$$lore###\"\n",
    "for i in a:\n",
    "    if not ('A'<=i<='Z' or 'a'<=i<='z' or '0'<=i<='9'):\n",
    "        print(i)"
   ]
  },
  {
   "cell_type": "code",
   "execution_count": 247,
   "metadata": {},
   "outputs": [
    {
     "name": "stdout",
     "output_type": "stream",
     "text": [
      "@@#$$#@#\n"
     ]
    }
   ],
   "source": [
    "a=\"Bangalore@@#$$#@#\"\n",
    "out=\"\"\n",
    "for i in a:\n",
    "    if not ('A'<=i<='Z' or 'a'<=i<='z' or '0'<=i<='9'):\n",
    "        out=out+i\n",
    "print(out)"
   ]
  },
  {
   "cell_type": "code",
   "execution_count": 248,
   "metadata": {},
   "outputs": [
    {
     "name": "stdout",
     "output_type": "stream",
     "text": [
      "East_or_west_the_sachin_is_best\n"
     ]
    }
   ],
   "source": [
    "a=\"East or west the sachin is best\"\n",
    "out=\"\"\n",
    "for i in a:\n",
    "    if i==\" \":\n",
    "        out+=\"_\"\n",
    "    else:\n",
    "        out+=i\n",
    "print(out)\n",
    "        "
   ]
  },
  {
   "cell_type": "code",
   "execution_count": 249,
   "metadata": {},
   "outputs": [
    {
     "name": "stdout",
     "output_type": "stream",
     "text": [
      "('python', 'hi')\n"
     ]
    }
   ],
   "source": [
    "p=(\"python\",\"manoj\",\"hi\")\n",
    "out=()\n",
    "for i in p:\n",
    "    if len(i)%2==0:\n",
    "        out+=(i,)\n",
    "print(out)"
   ]
  },
  {
   "cell_type": "code",
   "execution_count": 250,
   "metadata": {},
   "outputs": [
    {
     "name": "stdout",
     "output_type": "stream",
     "text": [
      "('python', 'hi', 'hello', 'hb', 'manoj')\n"
     ]
    }
   ],
   "source": [
    "f=(\"python\",\"hi\",\"hello\",\"hi\",\"hb\",\"manoj\",\"python\",\"manoj\")\n",
    "out=()\n",
    "for i in f:\n",
    "    if i not in out:\n",
    "        out+=(i,)\n",
    "print(out)"
   ]
  },
  {
   "cell_type": "code",
   "execution_count": 251,
   "metadata": {},
   "outputs": [
    {
     "name": "stdout",
     "output_type": "stream",
     "text": [
      "['ROsses', 'are', 'Red']\n"
     ]
    }
   ],
   "source": [
    "a='ROsses are Red'\n",
    "out=[]\n",
    "b=''\n",
    "for i in a:\n",
    "    if i!=\" \":\n",
    "        b=b+i\n",
    "    else:\n",
    "        out=out+[b]\n",
    "        b=''\n",
    "out=out+[b]\n",
    "print(out)"
   ]
  },
  {
   "cell_type": "code",
   "execution_count": 252,
   "metadata": {},
   "outputs": [
    {
     "name": "stdout",
     "output_type": "stream",
     "text": [
      "['ROsses', 'are', 'Red']\n"
     ]
    }
   ],
   "source": [
    "a='ROsses are Red'\n",
    "out=a.split(' ')\n",
    "print(out)"
   ]
  },
  {
   "cell_type": "code",
   "execution_count": 253,
   "metadata": {},
   "outputs": [
    {
     "name": "stdout",
     "output_type": "stream",
     "text": [
      "enter the char:manooj\n",
      "['a', 'o', 'o']\n"
     ]
    }
   ],
   "source": [
    "a=input(\"enter the char:\")\n",
    "out=[]\n",
    "for i in a:\n",
    "    if i in 'AEIOUaeiou':\n",
    "        out+=[i]\n",
    "print(out)"
   ]
  },
  {
   "cell_type": "code",
   "execution_count": 254,
   "metadata": {},
   "outputs": [
    {
     "name": "stdout",
     "output_type": "stream",
     "text": [
      "{'ROsses': 6, 'are': 3, 'Red': 3}\n"
     ]
    }
   ],
   "source": [
    "a=['ROsses', 'are', 'Red']\n",
    "out={}\n",
    "for i in a:\n",
    "    out[i]=len(i)\n",
    "print(out)"
   ]
  },
  {
   "cell_type": "code",
   "execution_count": 255,
   "metadata": {},
   "outputs": [
    {
     "name": "stdout",
     "output_type": "stream",
     "text": [
      "{'ROsses': 'sessOR', 'are': 'era', 'Red': 'deR'}\n"
     ]
    }
   ],
   "source": [
    "a=['ROsses', 'are', 'Red']\n",
    "out={}\n",
    "for i in a:\n",
    "    out[i]=i[::-1]\n",
    "print(out)"
   ]
  },
  {
   "cell_type": "code",
   "execution_count": 256,
   "metadata": {},
   "outputs": [
    {
     "name": "stdout",
     "output_type": "stream",
     "text": [
      "{'ROsses': [6, 'sessOR'], 'are': [3, 'era'], 'Red': [3, 'deR']}\n"
     ]
    }
   ],
   "source": [
    "a=['ROsses', 'are', 'Red']\n",
    "out={}\n",
    "for i in a:\n",
    "    out[i]=[len(i),i[::-1]]\n",
    "print(out)"
   ]
  },
  {
   "cell_type": "code",
   "execution_count": 257,
   "metadata": {},
   "outputs": [
    {
     "name": "stdout",
     "output_type": "stream",
     "text": [
      "HHOLI\n"
     ]
    }
   ],
   "source": [
    "st=\"Happy HOLI\"\n",
    "out=\"\"\n",
    "for i in st:\n",
    "    if 'A'<=i<='Z':\n",
    "        out+=i\n",
    "print(out)"
   ]
  },
  {
   "cell_type": "code",
   "execution_count": 258,
   "metadata": {},
   "outputs": [
    {
     "name": "stdout",
     "output_type": "stream",
     "text": [
      "HAPPY HOLI\n"
     ]
    }
   ],
   "source": [
    "a='Happy HOLI'\n",
    "out=\"\"\n",
    "for i in a:\n",
    "    if 'a'<=i<='z':\n",
    "        out+=chr(ord(i)-32)\n",
    "    else:\n",
    "        out+=i\n",
    "print(out)"
   ]
  },
  {
   "cell_type": "code",
   "execution_count": 259,
   "metadata": {},
   "outputs": [
    {
     "name": "stdout",
     "output_type": "stream",
     "text": [
      "happy holi\n"
     ]
    }
   ],
   "source": [
    "a='Happy HOLI'\n",
    "out=\"\"\n",
    "for i in a:\n",
    "    if \"A\"<=i<\"Z\":\n",
    "        out+=chr(ord(i)+32)\n",
    "    else:\n",
    "        out+=i\n",
    "print(out)"
   ]
  },
  {
   "cell_type": "code",
   "execution_count": 260,
   "metadata": {},
   "outputs": [
    {
     "name": "stdout",
     "output_type": "stream",
     "text": [
      "bh jonam\n"
     ]
    }
   ],
   "source": [
    "a=\"manoj hb\"\n",
    "out=\"\"\n",
    "for i in a:\n",
    "    out=i+out\n",
    "print(out)"
   ]
  },
  {
   "cell_type": "code",
   "execution_count": 261,
   "metadata": {},
   "outputs": [
    {
     "name": "stdout",
     "output_type": "stream",
     "text": [
      "('python', 'byee')\n"
     ]
    }
   ],
   "source": [
    "a=(10,2.5,\"hello\",\"python\",\"hai\",\"byee\",3+5j)\n",
    "out=()\n",
    "for i in a:\n",
    "    if type(i)==str and len(i)%2==0:\n",
    "        out+=(i,)\n",
    "print(out)"
   ]
  },
  {
   "cell_type": "code",
   "execution_count": 262,
   "metadata": {},
   "outputs": [
    {
     "name": "stdout",
     "output_type": "stream",
     "text": [
      "palindrome\n"
     ]
    }
   ],
   "source": [
    "a=\"malayalam\"\n",
    "out=\"\"\n",
    "for i in a:\n",
    "    out=i+out\n",
    "if out==a:\n",
    "    print(\"palindrome\")\n",
    "else:\n",
    "    print(\"not palindrome\")"
   ]
  },
  {
   "cell_type": "code",
   "execution_count": 263,
   "metadata": {},
   "outputs": [
    {
     "name": "stdout",
     "output_type": "stream",
     "text": [
      "['manoj', 'hi', 'ki', 'li']\n"
     ]
    }
   ],
   "source": [
    "a=[\"manoj\",\"hi\",\"ki\",\"li\",\"manoj\",\"hi\"]\n",
    "out=[]\n",
    "for i in a:\n",
    "    if i not in out:\n",
    "        out+=[i]\n",
    "print(out)"
   ]
  },
  {
   "cell_type": "code",
   "execution_count": 264,
   "metadata": {},
   "outputs": [
    {
     "name": "stdout",
     "output_type": "stream",
     "text": [
      "[0, 0, 110, 100, 0, 0]\n"
     ]
    }
   ],
   "source": [
    "a=\"monday\"\n",
    "out=[]\n",
    "for i in a:\n",
    "    if ord(i)%2==0:\n",
    "        out+=[ord(i)]\n",
    "    else:\n",
    "        out+=[0]\n",
    "print(out)"
   ]
  },
  {
   "cell_type": "code",
   "execution_count": 265,
   "metadata": {},
   "outputs": [
    {
     "name": "stdout",
     "output_type": "stream",
     "text": [
      "3\n"
     ]
    }
   ],
   "source": [
    "a='mahendrasinghdhoni'\n",
    "b='h'\n",
    "count=0\n",
    "for i in a:\n",
    "    if i=='h':\n",
    "        count+=1\n",
    "print(count)      "
   ]
  },
  {
   "cell_type": "code",
   "execution_count": 266,
   "metadata": {},
   "outputs": [
    {
     "name": "stdout",
     "output_type": "stream",
     "text": [
      "('hai', 10, 'monkey', 'hiii')\n"
     ]
    }
   ],
   "source": [
    "a=(\"hai\",\"bye\",10,20+3j,\"monkey\",\"True\",\"hiii\")\n",
    "out=()\n",
    "for i in range(len(a)):\n",
    "    if i%2==0:\n",
    "        out+=(a[i],)\n",
    "print(out)"
   ]
  },
  {
   "cell_type": "code",
   "execution_count": 267,
   "metadata": {},
   "outputs": [
    {
     "name": "stdout",
     "output_type": "stream",
     "text": [
      "(24, 34, 66)\n"
     ]
    }
   ],
   "source": [
    "a=(12,24,2+3j,False,'abc',34,75,66)\n",
    "out=()\n",
    "for i in range(len(a)):\n",
    "    if type(a[i])==int and i%2==1:\n",
    "        out+=(a[i],)\n",
    "print(out)"
   ]
  },
  {
   "cell_type": "code",
   "execution_count": 268,
   "metadata": {},
   "outputs": [
    {
     "name": "stdout",
     "output_type": "stream",
     "text": [
      "[4, 36, 100, 196, 324]\n"
     ]
    }
   ],
   "source": [
    "a=[2,4,6,8,10,12,14,16,18,20]\n",
    "out=[]\n",
    "for i in range(len(a)):\n",
    "    if type(a[i])==int and i%2==0:\n",
    "        out+=[a[i]**2]\n",
    "print(out)"
   ]
  },
  {
   "cell_type": "code",
   "execution_count": 269,
   "metadata": {},
   "outputs": [
    {
     "name": "stdout",
     "output_type": "stream",
     "text": [
      "[14, 16, 18, 20, 22]\n"
     ]
    }
   ],
   "source": [
    "r=[2,4,6,8,10,12,14,16,18,20,22,]\n",
    "out=[]\n",
    "if len(r)%2==1:\n",
    "    a=len(r)//2\n",
    "    for i in range(a+1 ,len(r)):\n",
    "        out+=[r[i]]\n",
    "    print(out)\n",
    "else:\n",
    "    print(\"no middle value\")"
   ]
  },
  {
   "cell_type": "code",
   "execution_count": 270,
   "metadata": {},
   "outputs": [
    {
     "name": "stdout",
     "output_type": "stream",
     "text": [
      "its an perfect number\n"
     ]
    }
   ],
   "source": [
    "n=6\n",
    "out=0\n",
    "for i in range(1,n):\n",
    "    if n%i==0:\n",
    "        out+=i\n",
    "if out==n:\n",
    "    print(\"its an perfect number\")\n",
    "else:\n",
    "    print(\"it notperfect number\")"
   ]
  },
  {
   "cell_type": "code",
   "execution_count": 3,
   "metadata": {},
   "outputs": [
    {
     "name": "stdout",
     "output_type": "stream",
     "text": [
      "prime\n"
     ]
    }
   ],
   "source": [
    "n=7\n",
    "for i in range(2,n):\n",
    "    if n%i==0:\n",
    "        print(\"not prime\")\n",
    "        break\n",
    "else:\n",
    "    print(\"prime\")"
   ]
  },
  {
   "cell_type": "code",
   "execution_count": 272,
   "metadata": {},
   "outputs": [
    {
     "name": "stdout",
     "output_type": "stream",
     "text": [
      "armstrong\n"
     ]
    }
   ],
   "source": [
    "a=153\n",
    "b=str(a)\n",
    "c=len(b)\n",
    "out=0\n",
    "for i in b:\n",
    "    out+=int(i)**c\n",
    "if out==a:\n",
    "    print(\"armstrong\")\n",
    "else:\n",
    "    print(\"not armstrong\")"
   ]
  },
  {
   "cell_type": "code",
   "execution_count": 273,
   "metadata": {},
   "outputs": [
    {
     "name": "stdout",
     "output_type": "stream",
     "text": [
      "{'hai': 3, 'hello': 5, 10: <class 'int'>, (2+3j): <class 'complex'>, True: <class 'bool'>, 0.2: <class 'float'>}\n"
     ]
    }
   ],
   "source": [
    "t=(\"hai\",\"hello\",10,2+3j,True,.2)\n",
    "out={}\n",
    "for i in t:\n",
    "    if type(i) in [str,tuple,set,dict]:\n",
    "        out[i]=len(i)\n",
    "    else:\n",
    "        out[i]=type(i)\n",
    "print(out)\n"
   ]
  },
  {
   "cell_type": "code",
   "execution_count": 339,
   "metadata": {},
   "outputs": [
    {
     "name": "stdout",
     "output_type": "stream",
     "text": [
      "hetergenous collection\n"
     ]
    }
   ],
   "source": [
    "ip1=[10,100,True,'5',1+4j,'6.5']\n",
    "ref=ip1[0]\n",
    "for i in ip1:\n",
    "    if type(i)!=type(ref):\n",
    "        print(\"hetergenous collection\")\n",
    "        break\n",
    "else:\n",
    "    print(\"homogenous\")"
   ]
  },
  {
   "cell_type": "code",
   "execution_count": 340,
   "metadata": {},
   "outputs": [
    {
     "name": "stdout",
     "output_type": "stream",
     "text": [
      "homogenous\n"
     ]
    }
   ],
   "source": [
    "ip1=[10,100,1,454,4,54,54,54]\n",
    "ref=ip1[0]\n",
    "for i in ip1:\n",
    "    if type(i)!=type(ref):\n",
    "        print(\"hetergenous collection\")\n",
    "        break\n",
    "else:\n",
    "    print(\"homogenous\")"
   ]
  },
  {
   "cell_type": "code",
   "execution_count": 374,
   "metadata": {},
   "outputs": [
    {
     "name": "stdout",
     "output_type": "stream",
     "text": [
      "7\n",
      "prime\n"
     ]
    }
   ],
   "source": [
    "a=int(input())\n",
    "indicator=0\n",
    "for i in range(2,a):\n",
    "    if a%i==0:\n",
    "        indicator=1\n",
    "\n",
    "if indicator==0:\n",
    "    print(\"prime\")\n",
    "else:\n",
    "    print(\"not prime\")"
   ]
  },
  {
   "cell_type": "code",
   "execution_count": 8,
   "metadata": {},
   "outputs": [
    {
     "name": "stdout",
     "output_type": "stream",
     "text": [
      "0\n",
      "1\n",
      "2\n",
      "3\n",
      "4\n",
      "5\n",
      "6\n",
      "7\n",
      "8\n",
      "9\n",
      "10\n"
     ]
    }
   ],
   "source": [
    "n=10\n",
    "for i in range(0,n+1):\n",
    "    print(i)"
   ]
  },
  {
   "cell_type": "code",
   "execution_count": 9,
   "metadata": {},
   "outputs": [
    {
     "name": "stdout",
     "output_type": "stream",
     "text": [
      "0\n",
      "1\n",
      "2\n",
      "3\n",
      "4\n",
      "5\n",
      "6\n",
      "7\n",
      "8\n",
      "9\n",
      "10\n"
     ]
    }
   ],
   "source": [
    "n=10\n",
    "for i in range(n+1):\n",
    "    print(i)"
   ]
  },
  {
   "cell_type": "code",
   "execution_count": 10,
   "metadata": {},
   "outputs": [
    {
     "name": "stdout",
     "output_type": "stream",
     "text": [
      "2\n",
      "4\n",
      "8\n",
      "10\n",
      "12\n"
     ]
    }
   ],
   "source": [
    "a=[2,4,8,1,3,5,10,7,5,12]\n",
    "for i in a:\n",
    "    if i%2==0:\n",
    "        print(i)"
   ]
  },
  {
   "cell_type": "code",
   "execution_count": 11,
   "metadata": {},
   "outputs": [
    {
     "name": "stdout",
     "output_type": "stream",
     "text": [
      "1\n",
      "3\n",
      "5\n",
      "7\n",
      "5\n"
     ]
    }
   ],
   "source": [
    "a=[2,4,8,1,3,5,10,7,5,12]\n",
    "for i in a:\n",
    "    if i%2==1:\n",
    "        print(i)"
   ]
  },
  {
   "cell_type": "code",
   "execution_count": 12,
   "metadata": {},
   "outputs": [
    {
     "name": "stdout",
     "output_type": "stream",
     "text": [
      "P\n",
      "T\n",
      "H\n",
      "N\n"
     ]
    }
   ],
   "source": [
    "a='PyTHoN'\n",
    "for i in a:\n",
    "    if 'A'<=i<'Z':\n",
    "        print(i)"
   ]
  },
  {
   "cell_type": "code",
   "execution_count": 13,
   "metadata": {},
   "outputs": [
    {
     "name": "stdout",
     "output_type": "stream",
     "text": [
      "y\n",
      "o\n"
     ]
    }
   ],
   "source": [
    "a='PyTHoN'\n",
    "for i in a:\n",
    "    if 'a'<=i<'z':\n",
    "        print(i)"
   ]
  },
  {
   "cell_type": "code",
   "execution_count": 14,
   "metadata": {},
   "outputs": [
    {
     "name": "stdout",
     "output_type": "stream",
     "text": [
      "2\n",
      "3\n",
      "1\n",
      "1\n",
      "0\n",
      "1\n"
     ]
    }
   ],
   "source": [
    "a='P23yT1Ho101N'\n",
    "for i in a:\n",
    "    if '0'<=i<'9':\n",
    "        print(i)"
   ]
  },
  {
   "cell_type": "code",
   "execution_count": 15,
   "metadata": {},
   "outputs": [
    {
     "name": "stdout",
     "output_type": "stream",
     "text": [
      "@\n",
      "₹\n",
      "#\n",
      "%\n",
      "*\n",
      "*\n"
     ]
    }
   ],
   "source": [
    "a='P23y@₹#T1Ho%**101N'\n",
    "for i in a:\n",
    "        if not('A'<=i<='Z' or 'a'<=i<='z'or '0'<=i<='9'):\n",
    "            print(i)"
   ]
  },
  {
   "cell_type": "code",
   "execution_count": 16,
   "metadata": {},
   "outputs": [
    {
     "name": "stdout",
     "output_type": "stream",
     "text": [
      "python\n"
     ]
    }
   ],
   "source": [
    "a='PythON'\n",
    "out=''\n",
    "for i in a:\n",
    "    if 'A'<=i<='Z':\n",
    "        out+=chr(ord(i)+32)\n",
    "    else:\n",
    "        out+=i\n",
    "print(out)"
   ]
  },
  {
   "cell_type": "code",
   "execution_count": 17,
   "metadata": {},
   "outputs": [
    {
     "name": "stdout",
     "output_type": "stream",
     "text": [
      "PYTHON\n"
     ]
    }
   ],
   "source": [
    "a='PythON'\n",
    "out=''\n",
    "for i in a:\n",
    "    if 'a'<=i<='z':\n",
    "        out+=chr(ord(i)-32)\n",
    "    else:\n",
    "        out+=i\n",
    "print(out)"
   ]
  },
  {
   "cell_type": "code",
   "execution_count": 18,
   "metadata": {},
   "outputs": [
    {
     "name": "stdout",
     "output_type": "stream",
     "text": [
      "gnirts\n"
     ]
    }
   ],
   "source": [
    "a=\"string\"\n",
    "out=''\n",
    "for i in a:\n",
    "    out=i+out\n",
    "print(out)"
   ]
  },
  {
   "cell_type": "code",
   "execution_count": 19,
   "metadata": {},
   "outputs": [
    {
     "name": "stdout",
     "output_type": "stream",
     "text": [
      "palindrome\n"
     ]
    }
   ],
   "source": [
    "a='radar'\n",
    "out=''\n",
    "for i in a:\n",
    "    out=i+out\n",
    "if out==a:\n",
    "    print('palindrome')\n",
    "else:\n",
    "    print('not palindrome')"
   ]
  },
  {
   "cell_type": "code",
   "execution_count": 20,
   "metadata": {},
   "outputs": [
    {
     "name": "stdout",
     "output_type": "stream",
     "text": [
      "('hi', 'helloo', 'python')\n"
     ]
    }
   ],
   "source": [
    "a=(10,'hi',12.5,'helloo','python','hai','bye')\n",
    "out=()\n",
    "for i in a:\n",
    "    if type(i)==str and len(i)%2==0:\n",
    "        out+=(i,)\n",
    "print(out)"
   ]
  },
  {
   "cell_type": "code",
   "execution_count": 21,
   "metadata": {},
   "outputs": [
    {
     "name": "stdout",
     "output_type": "stream",
     "text": [
      "xyz\n"
     ]
    }
   ],
   "source": [
    "a='xxxyyzzxyz'\n",
    "out=''\n",
    "for i in a:\n",
    "    if i not in out:\n",
    "        out+=i\n",
    "print(out)"
   ]
  },
  {
   "cell_type": "code",
   "execution_count": 22,
   "metadata": {},
   "outputs": [
    {
     "name": "stdout",
     "output_type": "stream",
     "text": [
      "['hi', 'hello', 'manoj']\n"
     ]
    }
   ],
   "source": [
    "a=('hi','hello','hi','manoj','hi')\n",
    "out=[]\n",
    "for i in a:\n",
    "    if i not in out:\n",
    "        out+=[i]\n",
    "print(out)"
   ]
  },
  {
   "cell_type": "code",
   "execution_count": 23,
   "metadata": {},
   "outputs": [
    {
     "name": "stdout",
     "output_type": "stream",
     "text": [
      "[0, 0, 110, 100, 0, 0]\n"
     ]
    }
   ],
   "source": [
    "st='Monday'\n",
    "out=[]\n",
    "for i in st:\n",
    "    if ord(i)%2==0:\n",
    "        out+=[ord(i)]\n",
    "    else:\n",
    "        out+=[0]\n",
    "print(out)"
   ]
  },
  {
   "cell_type": "code",
   "execution_count": 24,
   "metadata": {},
   "outputs": [
    {
     "name": "stdout",
     "output_type": "stream",
     "text": [
      "2\n"
     ]
    }
   ],
   "source": [
    "a='davanagere'\n",
    "b='e'\n",
    "count=0\n",
    "for i in a:\n",
    "    if i ==b:\n",
    "        count+=1\n",
    "print(count)"
   ]
  },
  {
   "cell_type": "code",
   "execution_count": 25,
   "metadata": {},
   "outputs": [
    {
     "name": "stdout",
     "output_type": "stream",
     "text": [
      "3\n"
     ]
    }
   ],
   "source": [
    "a='davanagere'\n",
    "count=0\n",
    "for i in a:\n",
    "    if i =='a':\n",
    "        count+=1\n",
    "print(count)"
   ]
  },
  {
   "cell_type": "code",
   "execution_count": 26,
   "metadata": {},
   "outputs": [
    {
     "name": "stdout",
     "output_type": "stream",
     "text": [
      "python_training_instution\n"
     ]
    }
   ],
   "source": [
    "a='python training instution'\n",
    "out=''\n",
    "for i in a:\n",
    "    if i==' ':\n",
    "        out+='_'\n",
    "    else:\n",
    "        out+=i\n",
    "print(out)"
   ]
  },
  {
   "cell_type": "code",
   "execution_count": 27,
   "metadata": {},
   "outputs": [
    {
     "name": "stdout",
     "output_type": "stream",
     "text": [
      "['hi', 'manoj', 'string']\n"
     ]
    }
   ],
   "source": [
    "a=('hi','hello','manoj','hb','string')\n",
    "out=[]\n",
    "for i in range(len(a)):\n",
    "    if i%2==0:\n",
    "        out+=(a[i],)\n",
    "print(out)"
   ]
  },
  {
   "cell_type": "code",
   "execution_count": 28,
   "metadata": {},
   "outputs": [
    {
     "name": "stdout",
     "output_type": "stream",
     "text": [
      "[4, 36, 100]\n"
     ]
    }
   ],
   "source": [
    "a=(2,4,6,8,10)\n",
    "out=[]\n",
    "for i in range(len(a)):\n",
    "    if i%2==0:\n",
    "        out+=(a[i]**2,)\n",
    "print(out)"
   ]
  },
  {
   "cell_type": "code",
   "execution_count": 29,
   "metadata": {},
   "outputs": [
    {
     "name": "stdout",
     "output_type": "stream",
     "text": [
      "hi\n"
     ]
    }
   ],
   "source": [
    "a=[1,2,5.5,'hi',3+4j,True,38]\n",
    "if len(a)%2!=0:\n",
    "    if type(a[len(a)//2])==str:\n",
    "        print(a[len(a)//2])\n",
    "    else:\n",
    "        print(len(a)//2)\n",
    "else:\n",
    "    print('list doesnot have middle value')"
   ]
  },
  {
   "cell_type": "code",
   "execution_count": 30,
   "metadata": {},
   "outputs": [
    {
     "name": "stdout",
     "output_type": "stream",
     "text": [
      "3\n"
     ]
    }
   ],
   "source": [
    "a=[1,2,5.5,3,3+4j,True,38]\n",
    "if len(a)%2!=0:\n",
    "    if type(a[len(a)//2])==str:\n",
    "        print(a[len(a)//2])\n",
    "    else:\n",
    "        print(len(a)//2)\n",
    "else:\n",
    "    print('list doesnot have middle value')"
   ]
  },
  {
   "cell_type": "code",
   "execution_count": 31,
   "metadata": {},
   "outputs": [
    {
     "name": "stdout",
     "output_type": "stream",
     "text": [
      "123\n"
     ]
    }
   ],
   "source": [
    "a=[1,2,5.5,123,3+4j,True,38]\n",
    "if len(a)%2!=0:\n",
    "    if type(a[len(a)//2])==str:\n",
    "        print(a[len(a)//2])\n",
    "    else:\n",
    "        print(a[len(a)//2])\n",
    "else:\n",
    "    print('list doesnot have middle value')"
   ]
  },
  {
   "cell_type": "code",
   "execution_count": 32,
   "metadata": {},
   "outputs": [
    {
     "name": "stdout",
     "output_type": "stream",
     "text": [
      "list doesnot have middle value\n"
     ]
    }
   ],
   "source": [
    "a=[1,2,5.5,3+4j,True,38]\n",
    "if len(a)%2!=0:\n",
    "    if type(a[len(a)//2])==str:\n",
    "        print(a[len(a)//2])\n",
    "    else:\n",
    "        print(a[len(a)//2])\n",
    "else:\n",
    "    print('list doesnot have middle value')"
   ]
  },
  {
   "cell_type": "code",
   "execution_count": 33,
   "metadata": {},
   "outputs": [
    {
     "name": "stdout",
     "output_type": "stream",
     "text": [
      "[5, 8, 10]\n"
     ]
    }
   ],
   "source": [
    "a=('hi',5,6,8,9,10,4+3j,'hello',45,'hb','string',2.3)\n",
    "out=[]\n",
    "for i in range(len(a)):\n",
    "    if i%2==1 and type(a[i])==int:\n",
    "        out+=(a[i],)\n",
    "print(out)"
   ]
  },
  {
   "cell_type": "code",
   "execution_count": 10,
   "metadata": {},
   "outputs": [],
   "source": [
    "\n"
   ]
  },
  {
   "cell_type": "code",
   "execution_count": null,
   "metadata": {},
   "outputs": [],
   "source": []
  },
  {
   "cell_type": "code",
   "execution_count": null,
   "metadata": {},
   "outputs": [],
   "source": []
  },
  {
   "cell_type": "markdown",
   "metadata": {},
   "source": [
    "# nested  for loop"
   ]
  },
  {
   "cell_type": "code",
   "execution_count": 289,
   "metadata": {},
   "outputs": [
    {
     "name": "stdout",
     "output_type": "stream",
     "text": [
      "5\n",
      "6\n",
      "5\n",
      "6\n",
      "6\n"
     ]
    }
   ],
   "source": [
    "k=[\"apple\",\"banana\",\"mango\",\"grapes\",\"orange\"]\n",
    "for i in k:\n",
    "    count=0\n",
    "    for j in i:\n",
    "        count+=1\n",
    "    print(count)"
   ]
  },
  {
   "cell_type": "code",
   "execution_count": 306,
   "metadata": {},
   "outputs": [
    {
     "name": "stdout",
     "output_type": "stream",
     "text": [
      "{'apple': 2, 'banana': 3, 'mango': 2, 'grapes': 2, 'orange': 3}\n"
     ]
    }
   ],
   "source": [
    "k=[\"apple\",\"banana\",\"mango\",\"grapes\",\"orange\"]\n",
    "out={}\n",
    "for i in k:\n",
    "    count=0\n",
    "    for j in i:\n",
    "        if j in 'AEIOUaeiou':\n",
    "            count+=1\n",
    "    out[i]=count\n",
    "print(out)"
   ]
  },
  {
   "cell_type": "code",
   "execution_count": 311,
   "metadata": {},
   "outputs": [
    {
     "name": "stdout",
     "output_type": "stream",
     "text": [
      "{3: [1, 2, 3], 2: [4, 5], 4: [3, 2, 1, 4]}\n"
     ]
    }
   ],
   "source": [
    "y=[[1,2,3],[4,5],[3,2,1,4]]\n",
    "out={}\n",
    "for i in y:\n",
    "    c=0\n",
    "    for j in i:\n",
    "        c+=1\n",
    "    out[c]=i\n",
    "print(out)        "
   ]
  },
  {
   "cell_type": "code",
   "execution_count": 312,
   "metadata": {},
   "outputs": [
    {
     "name": "stdout",
     "output_type": "stream",
     "text": [
      "{'python': 6, 'Btm': 3, 'blore': 5, 'karn': 4}\n"
     ]
    }
   ],
   "source": [
    "r=['python','Btm','blore','karn']\n",
    "out={}\n",
    "for i in r:\n",
    "    c=0\n",
    "    for j in i:\n",
    "        c+=1\n",
    "    out[i]=c\n",
    "print(out)"
   ]
  },
  {
   "cell_type": "code",
   "execution_count": 316,
   "metadata": {},
   "outputs": [
    {
     "name": "stdout",
     "output_type": "stream",
     "text": [
      "40\n"
     ]
    }
   ],
   "source": [
    "a=[4.5,3.5,[10,20],5,6,[1,2,[3,4]],4.5]\n",
    "out=0\n",
    "for i in a:\n",
    "    if type(i)==list:\n",
    "        for j in i:\n",
    "            if type(j)==int:\n",
    "                out+=j\n",
    "            elif type(j)==list:\n",
    "                for k in j:\n",
    "                    if type(k)==int:\n",
    "                        out+=k\n",
    "print(out)             "
   ]
  },
  {
   "cell_type": "code",
   "execution_count": 323,
   "metadata": {},
   "outputs": [
    {
     "name": "stdout",
     "output_type": "stream",
     "text": [
      "('.org', '.in', '.com')\n"
     ]
    }
   ],
   "source": [
    "array=['python.org','testyantra.in','pyspiders.com','qspiders.com','jders.in']\n",
    "out=()\n",
    "for i in array:\n",
    "    b=''\n",
    "    for j in i:\n",
    "        if j==\".\":\n",
    "            b=''\n",
    "            b+=j\n",
    "        else:\n",
    "            b+=j\n",
    "    \n",
    "    if b not in out:\n",
    "            out+=(b,)\n",
    "print(out)   "
   ]
  },
  {
   "cell_type": "code",
   "execution_count": 330,
   "metadata": {},
   "outputs": [
    {
     "name": "stdout",
     "output_type": "stream",
     "text": [
      "{'.org': 1, '.in': 2, '.com': 2}\n"
     ]
    }
   ],
   "source": [
    "array=['python.org','testyantra.in','pyspiders.com','qspiders.com','jders.in']\n",
    "out={}\n",
    "for i in array:\n",
    "    c=''\n",
    "    for j in i:\n",
    "        if j=='.':\n",
    "            c=''\n",
    "            c+=j\n",
    "        else:\n",
    "            c+=j\n",
    "            \n",
    "    if c in out:\n",
    "        out[c]+=1\n",
    "    else:\n",
    "        out[c]=1\n",
    "        \n",
    "print(out)"
   ]
  },
  {
   "cell_type": "code",
   "execution_count": 353,
   "metadata": {},
   "outputs": [
    {
     "name": "stdout",
     "output_type": "stream",
     "text": [
      "a3b3c3d2\n"
     ]
    }
   ],
   "source": [
    "g='aabbccdabcd'\n",
    "out=\"\"\n",
    "for i in g:\n",
    "    if i not in out:\n",
    "        c=0\n",
    "        for j in g:\n",
    "            if i==j:\n",
    "                c+=1\n",
    "        out+=i+str(c)\n",
    "print(out)"
   ]
  },
  {
   "cell_type": "code",
   "execution_count": 366,
   "metadata": {},
   "outputs": [
    {
     "name": "stdout",
     "output_type": "stream",
     "text": [
      "a3b3c3d2\n"
     ]
    }
   ],
   "source": [
    "l='aabbccdabcd'\n",
    "out=\"\"\n",
    "for i in l:\n",
    "    c=0\n",
    "    for j in l:\n",
    "        if i==j:\n",
    "            c+=1\n",
    "    if i not in out:\n",
    "        out+=i+str(c)\n",
    "print(out)      "
   ]
  },
  {
   "cell_type": "code",
   "execution_count": 370,
   "metadata": {},
   "outputs": [
    {
     "name": "stdout",
     "output_type": "stream",
     "text": [
      "a3b3c3d2\n"
     ]
    }
   ],
   "source": [
    "l='aabbccdabcd'\n",
    "m='aabbccdabcd'\n",
    "out=\"\"\n",
    "for i in l:\n",
    "    c=0\n",
    "    for j in m:\n",
    "        if i==j:\n",
    "            c+=1\n",
    "    if i not in out:\n",
    "        out+=i+str(c)\n",
    "print(out)      "
   ]
  },
  {
   "cell_type": "code",
   "execution_count": 1,
   "metadata": {},
   "outputs": [
    {
     "name": "stdout",
     "output_type": "stream",
     "text": [
      "1\n",
      "2\n",
      "3\n",
      "5\n",
      "7\n",
      "11\n",
      "13\n",
      "17\n",
      "19\n"
     ]
    }
   ],
   "source": [
    "for i in range(1,21):\n",
    "    ind=0\n",
    "    for j in range(2,i):\n",
    "        if i%j==0:\n",
    "            ind=1\n",
    "    \n",
    "    if ind==0:\n",
    "        print(i)"
   ]
  },
  {
   "cell_type": "code",
   "execution_count": 2,
   "metadata": {},
   "outputs": [
    {
     "name": "stdout",
     "output_type": "stream",
     "text": [
      "6\n",
      "28\n",
      "496\n"
     ]
    }
   ],
   "source": [
    "for i in range(1,1001):\n",
    "    sum=0\n",
    "    for j in range(1,i):\n",
    "        if i%j==0:\n",
    "            sum+=j\n",
    "    if sum==i:\n",
    "        print(i)"
   ]
  },
  {
   "cell_type": "code",
   "execution_count": 1,
   "metadata": {},
   "outputs": [
    {
     "name": "stdout",
     "output_type": "stream",
     "text": [
      "5\n"
     ]
    }
   ],
   "source": [
    "p='33344563355644555'\n",
    "out=''\n",
    "count=0\n",
    "for i in p:\n",
    "    t=0\n",
    "    for j in p:\n",
    "        if i==j:\n",
    "            t+=1\n",
    "    if t>count:\n",
    "        count+=t\n",
    "        out=i\n",
    "print(out)"
   ]
  },
  {
   "cell_type": "code",
   "execution_count": 5,
   "metadata": {},
   "outputs": [
    {
     "name": "stdout",
     "output_type": "stream",
     "text": [
      "[24, 6, 24, 8, 12, 24]\n"
     ]
    }
   ],
   "source": [
    "a=[1,4,'hai',3,2,True]\n",
    "out=[]\n",
    "for i in range(len(a)):\n",
    "    p=1\n",
    "    for j in range(len(a)):\n",
    "        if i!=j and type(a[j])==int:\n",
    "            p*=a[j]\n",
    "    out+=[p]\n",
    "print(out)"
   ]
  },
  {
   "cell_type": "code",
   "execution_count": 6,
   "metadata": {},
   "outputs": [
    {
     "name": "stdout",
     "output_type": "stream",
     "text": [
      "[9, 6, 18, 18, 18, 6]\n"
     ]
    }
   ],
   "source": [
    "a=[2,3,1,True,'hello',3]\n",
    "out=[]\n",
    "for i in range(len(a)):\n",
    "    p=1\n",
    "    for j in range(len(a)):\n",
    "        if i!=j and type(a[j])==int:\n",
    "            p*=a[j]\n",
    "    out+=[p]\n",
    "print(out)"
   ]
  },
  {
   "cell_type": "code",
   "execution_count": 15,
   "metadata": {},
   "outputs": [
    {
     "name": "stdout",
     "output_type": "stream",
     "text": [
      "[10, 24, 46, (6+8j), 45, 'string']\n",
      "112\n"
     ]
    }
   ],
   "source": [
    "A = [10, 23, 24, 37, 46, 4.5, 6+8j, 4.9, 45, 7, 'string', ['list']]\n",
    "out = []\n",
    "Sum = 0\n",
    "for i in range(len(A)):\n",
    "    if i%2 == 0:\n",
    "        out += [A[i]]\n",
    "    if type(A[i]) == int and A[i]%2 == 1:\n",
    "        Sum += A[i]\n",
    "print(out)\n",
    "print(Sum)"
   ]
  },
  {
   "cell_type": "code",
   "execution_count": 16,
   "metadata": {},
   "outputs": [
    {
     "name": "stdout",
     "output_type": "stream",
     "text": [
      "{'nohtyP': 6, 'si': 2, 'yrev': 4, 'ysae': 4}\n"
     ]
    }
   ],
   "source": [
    "#String = ‘Python is very easy’\n",
    "#Output = {‘nohtyP’: 6, ‘si’: 2, ‘yrev’: 4, ‘ysae’: 4}\n",
    "string = 'Python is very easy'\n",
    "s = string.split(' ')\n",
    "out = {}\n",
    "for i in s:\n",
    "    out[i[::-1]] = len(i) \n",
    "print(out)"
   ]
  },
  {
   "cell_type": "code",
   "execution_count": 19,
   "metadata": {},
   "outputs": [
    {
     "name": "stdout",
     "output_type": "stream",
     "text": [
      "ysae yrev si nohtyp\n"
     ]
    }
   ],
   "source": [
    "string = 'python is very easy'\n",
    "out = ''\n",
    "i = 0\n",
    "while i < len(string):\n",
    "    out = string[i] + out\n",
    "    i += 1\n",
    "print(out)"
   ]
  },
  {
   "cell_type": "code",
   "execution_count": 20,
   "metadata": {},
   "outputs": [
    {
     "name": "stdout",
     "output_type": "stream",
     "text": [
      "python raigsue\n"
     ]
    }
   ],
   "source": [
    "M = 'python training institute'\n",
    "out = ''\n",
    "for i in M:\n",
    "    if i not in out:\n",
    "        out += i\n",
    "print(out)"
   ]
  },
  {
   "cell_type": "code",
   "execution_count": null,
   "metadata": {},
   "outputs": [],
   "source": []
  },
  {
   "cell_type": "code",
   "execution_count": null,
   "metadata": {},
   "outputs": [],
   "source": []
  },
  {
   "cell_type": "code",
   "execution_count": null,
   "metadata": {},
   "outputs": [],
   "source": []
  },
  {
   "cell_type": "markdown",
   "metadata": {},
   "source": [
    "# functions"
   ]
  },
  {
   "cell_type": "markdown",
   "metadata": {},
   "source": [
    "## type_ 1 :without args without return values"
   ]
  },
  {
   "cell_type": "code",
   "execution_count": 8,
   "metadata": {},
   "outputs": [
    {
     "name": "stdout",
     "output_type": "stream",
     "text": [
      "prime\n"
     ]
    }
   ],
   "source": [
    "def prime():\n",
    "    n=7\n",
    "    for i in range(2,n):\n",
    "        if n%i==0:\n",
    "            print(\"not prime\")\n",
    "            break\n",
    "    else:\n",
    "        print(\"prime\")\n",
    "prime()"
   ]
  },
  {
   "cell_type": "code",
   "execution_count": 5,
   "metadata": {},
   "outputs": [
    {
     "name": "stdout",
     "output_type": "stream",
     "text": [
      "its an perfect number\n"
     ]
    }
   ],
   "source": [
    "def perfect():\n",
    "    n=6\n",
    "    out=0\n",
    "    for i in range(1,n):\n",
    "        if n%i==0:\n",
    "            out+=i\n",
    "    if out==n:\n",
    "        print(\"its an perfect number\")\n",
    "\n",
    "\n",
    "    else:\n",
    "        print(\"it notperfect number\")\n",
    "        \n",
    "perfect()"
   ]
  },
  {
   "cell_type": "code",
   "execution_count": 13,
   "metadata": {},
   "outputs": [
    {
     "name": "stdout",
     "output_type": "stream",
     "text": [
      "enter the name :mom\n",
      "palindrome\n"
     ]
    }
   ],
   "source": [
    "def palindrome():\n",
    "    a=input(\"enter the name :\")\n",
    "    out=\"\"\n",
    "    for i in a:\n",
    "        out=i+out\n",
    "    if out==a:\n",
    "        print(\"palindrome\")\n",
    "    else:\n",
    "        print(\"not palindrome\")\n",
    "palindrome()  "
   ]
  },
  {
   "cell_type": "code",
   "execution_count": 18,
   "metadata": {},
   "outputs": [
    {
     "name": "stdout",
     "output_type": "stream",
     "text": [
      "enter the char:manoj hb \n",
      "9\n"
     ]
    }
   ],
   "source": [
    "def count():\n",
    "    a=input((\"enter the char:\"))\n",
    "    c=0\n",
    "    for i in a:\n",
    "        c+=1\n",
    "    print(c)\n",
    "count()"
   ]
  },
  {
   "cell_type": "code",
   "execution_count": 3,
   "metadata": {},
   "outputs": [
    {
     "name": "stdout",
     "output_type": "stream",
     "text": [
      "enter the char :$$$manoj@@@123\n",
      "$$$@@@\n"
     ]
    }
   ],
   "source": [
    "def spchar():\n",
    "    a=input(\"enter the char :\")\n",
    "    out=\"\"\n",
    "    for i in a:\n",
    "        if not ('A'<=i<='Z' or 'a'<=i<='z' or '0'<=i<='9'):\n",
    "            out=out+i\n",
    "    print(out)\n",
    "spchar()"
   ]
  },
  {
   "cell_type": "code",
   "execution_count": 5,
   "metadata": {},
   "outputs": [
    {
     "name": "stdout",
     "output_type": "stream",
     "text": [
      "I AM A GENIOUS\n"
     ]
    }
   ],
   "source": [
    "def output():\n",
    "    a=\"ISAFEAMSAFEASAFEGENIOUS\"\n",
    "    b=a.split('SAFE')\n",
    "    out=' '.join(b)\n",
    "    print(out)\n",
    "output()"
   ]
  },
  {
   "cell_type": "code",
   "execution_count": 7,
   "metadata": {},
   "outputs": [
    {
     "name": "stdout",
     "output_type": "stream",
     "text": [
      "enter the string:hhfg\n",
      "collection\n"
     ]
    }
   ],
   "source": [
    "def abc():\n",
    "    a=input(\"enter the string:\")\n",
    "    if type(a) in [str,list,tuple,set,dict]:\n",
    "        print(\"collection\")\n",
    "    else:\n",
    "        print(\"not collection\")\n",
    "abc()"
   ]
  },
  {
   "cell_type": "code",
   "execution_count": 11,
   "metadata": {},
   "outputs": [
    {
     "name": "stdout",
     "output_type": "stream",
     "text": [
      "enter the string:qwertyuiopasdfghjklzm\n",
      "qetuoadgjlm\n"
     ]
    }
   ],
   "source": [
    "def string():\n",
    "    a=input(\"enter the string:\")\n",
    "    out=''\n",
    "    for i in range(len(a)):\n",
    "        if i%2==0:\n",
    "            out+=a[i]\n",
    "    print(out)\n",
    "string()  "
   ]
  },
  {
   "cell_type": "code",
   "execution_count": 12,
   "metadata": {},
   "outputs": [
    {
     "name": "stdout",
     "output_type": "stream",
     "text": [
      "enter the string:145789623\n",
      "15863\n"
     ]
    }
   ],
   "source": [
    "def string():\n",
    "    a=input(\"enter the string:\")\n",
    "    out=''\n",
    "    for i in range(len(a)):\n",
    "        if i%2==0:\n",
    "            out+=a[i]\n",
    "    print(out)\n",
    "string()  "
   ]
  },
  {
   "cell_type": "code",
   "execution_count": null,
   "metadata": {},
   "outputs": [],
   "source": []
  },
  {
   "cell_type": "code",
   "execution_count": null,
   "metadata": {},
   "outputs": [],
   "source": []
  },
  {
   "cell_type": "markdown",
   "metadata": {},
   "source": [
    "## type_2  :with args without return values"
   ]
  },
  {
   "cell_type": "code",
   "execution_count": 47,
   "metadata": {},
   "outputs": [
    {
     "name": "stdout",
     "output_type": "stream",
     "text": [
      "7\n",
      "8\n"
     ]
    }
   ],
   "source": [
    "def display(a,b):\n",
    "    print(a)\n",
    "    print(b)\n",
    "\n",
    "display(7,8)"
   ]
  },
  {
   "cell_type": "code",
   "execution_count": 48,
   "metadata": {},
   "outputs": [
    {
     "name": "stdout",
     "output_type": "stream",
     "text": [
      "enter a :8\n",
      "enter b :9\n",
      "8\n",
      "9\n"
     ]
    }
   ],
   "source": [
    "def display(a,b):\n",
    "    print(a)\n",
    "    print(b)\n",
    "\n",
    "display(input(\"enter a :\"),input(\"enter b :\"))"
   ]
  },
  {
   "cell_type": "code",
   "execution_count": 49,
   "metadata": {},
   "outputs": [
    {
     "name": "stdout",
     "output_type": "stream",
     "text": [
      "enter the num:7\n",
      "prime\n"
     ]
    }
   ],
   "source": [
    "def prime(n):\n",
    "    for i in range(2,n):\n",
    "        if n%i==0:\n",
    "            print(\"not prime\")\n",
    "            break\n",
    "    else:\n",
    "        print(\"prime\")\n",
    "\n",
    "prime(int(input(\"enter the num:\")))"
   ]
  },
  {
   "cell_type": "code",
   "execution_count": 31,
   "metadata": {},
   "outputs": [
    {
     "name": "stdout",
     "output_type": "stream",
     "text": [
      "its an perfect number\n"
     ]
    }
   ],
   "source": [
    "def perfect(n):\n",
    "\n",
    "    out=0\n",
    "    for i in range(1,n):\n",
    "        if n%i==0:\n",
    "            out+=i\n",
    "    if out==n:\n",
    "        print(\"its an perfect number\")\n",
    "\n",
    "\n",
    "    else:\n",
    "        print(\"it notperfect number\")\n",
    "        \n",
    "perfect(6)"
   ]
  },
  {
   "cell_type": "code",
   "execution_count": 37,
   "metadata": {},
   "outputs": [
    {
     "name": "stdout",
     "output_type": "stream",
     "text": [
      "enter the string:mom\n",
      "palindrome\n"
     ]
    }
   ],
   "source": [
    "def palindrome(a):\n",
    "    \n",
    "    out=\"\"\n",
    "    for i in a:\n",
    "        out=i+out\n",
    "    if out==a:\n",
    "        print(\"palindrome\")\n",
    "    else:\n",
    "        print(\"not palindrome\")\n",
    "\n",
    "palindrome(input(\"enter the string:\"))  "
   ]
  },
  {
   "cell_type": "code",
   "execution_count": 46,
   "metadata": {},
   "outputs": [
    {
     "name": "stdout",
     "output_type": "stream",
     "text": [
      "1505\n"
     ]
    }
   ],
   "source": [
    "def add(a,b,c):\n",
    "    print(a+b+c)\n",
    "\n",
    "add(154,789,562)"
   ]
  },
  {
   "cell_type": "code",
   "execution_count": 10,
   "metadata": {},
   "outputs": [
    {
     "name": "stdout",
     "output_type": "stream",
     "text": [
      "60\n"
     ]
    }
   ],
   "source": [
    "def addi(p,q,r):\n",
    "    s=p+q+r\n",
    "    print(s)\n",
    "    \n",
    "addi(10,20,30)"
   ]
  },
  {
   "cell_type": "code",
   "execution_count": 61,
   "metadata": {},
   "outputs": [
    {
     "name": "stdout",
     "output_type": "stream",
     "text": [
      "20\n"
     ]
    }
   ],
   "source": [
    "def sqr1(a,b):\n",
    "    if a%2==0 or b%2==0:\n",
    "        print(a**2+b**2)\n",
    "sqr1(2,4)"
   ]
  },
  {
   "cell_type": "code",
   "execution_count": 1,
   "metadata": {},
   "outputs": [
    {
     "name": "stdout",
     "output_type": "stream",
     "text": [
      "1\n",
      "2\n",
      "3\n",
      "4\n",
      "5\n",
      "6\n",
      "7\n",
      "8\n",
      "9\n",
      "10\n"
     ]
    }
   ],
   "source": [
    "def natural(n):\n",
    "    i=1\n",
    "    while i<=n:\n",
    "        print(i)\n",
    "        i+=1\n",
    "natural(10)"
   ]
  },
  {
   "cell_type": "code",
   "execution_count": 4,
   "metadata": {},
   "outputs": [
    {
     "name": "stdout",
     "output_type": "stream",
     "text": [
      "1\n",
      "2\n",
      "3\n",
      "4\n",
      "5\n",
      "6\n",
      "7\n",
      "8\n",
      "9\n"
     ]
    }
   ],
   "source": [
    "def natural(n):\n",
    "    for i in range(1,n):\n",
    "        print(i)\n",
    "        \n",
    "natural(10)"
   ]
  },
  {
   "cell_type": "code",
   "execution_count": 5,
   "metadata": {},
   "outputs": [
    {
     "name": "stdout",
     "output_type": "stream",
     "text": [
      "1\n",
      "2\n",
      "3\n",
      "4\n",
      "5\n",
      "6\n",
      "7\n",
      "8\n",
      "9\n",
      "10\n"
     ]
    }
   ],
   "source": [
    "def natural(n):\n",
    "    for i in range(1,n+1):\n",
    "        print(i)\n",
    "        \n",
    "natural(10)"
   ]
  },
  {
   "cell_type": "code",
   "execution_count": 13,
   "metadata": {},
   "outputs": [
    {
     "name": "stdout",
     "output_type": "stream",
     "text": [
      "14\n"
     ]
    }
   ],
   "source": [
    "def digit(a):\n",
    "    b=str(a)\n",
    "    out=0\n",
    "    for i in b:\n",
    "        out+=int(i)\n",
    "    print(out)\n",
    "digit(248)"
   ]
  },
  {
   "cell_type": "code",
   "execution_count": 17,
   "metadata": {},
   "outputs": [
    {
     "name": "stdout",
     "output_type": "stream",
     "text": [
      "21\n"
     ]
    }
   ],
   "source": [
    "def digit1(a):\n",
    "    out=0\n",
    "    temp=a\n",
    "    while a!=0:\n",
    "        d=a%10\n",
    "        out+=d\n",
    "        a//=10\n",
    "    print(out)\n",
    "digit1(489)"
   ]
  },
  {
   "cell_type": "code",
   "execution_count": null,
   "metadata": {},
   "outputs": [],
   "source": []
  },
  {
   "cell_type": "markdown",
   "metadata": {},
   "source": [
    "## type_3  :without args with return values"
   ]
  },
  {
   "cell_type": "code",
   "execution_count": 1,
   "metadata": {},
   "outputs": [
    {
     "name": "stdout",
     "output_type": "stream",
     "text": [
      "enter a:10\n",
      "enter b:5\n",
      "(10, 5, 15, 5, 50, 2.0)\n"
     ]
    }
   ],
   "source": [
    "def get():\n",
    "    a=int(input(\"enter a:\"))\n",
    "    b=int(input(\"enter b:\"))\n",
    "\n",
    "    return a,b,a+b,a-b,a*b,a/b\n",
    "    \n",
    "print(get())"
   ]
  },
  {
   "cell_type": "code",
   "execution_count": 2,
   "metadata": {},
   "outputs": [
    {
     "name": "stdout",
     "output_type": "stream",
     "text": [
      "enter a:10\n",
      "enter b:5\n",
      "(10, 5, 15, 5, 50, 2.0)\n"
     ]
    }
   ],
   "source": [
    "def get():\n",
    "    a=int(input(\"enter a:\"))\n",
    "    b=int(input(\"enter b:\"))\n",
    "\n",
    "    return a,b,a+b,a-b,a*b,a/b\n",
    "    \n",
    "out=get()\n",
    "print(out)"
   ]
  },
  {
   "cell_type": "code",
   "execution_count": 12,
   "metadata": {},
   "outputs": [
    {
     "name": "stdout",
     "output_type": "stream",
     "text": [
      "enter a:1\n",
      "enter b:2\n",
      "enter c:3\n",
      "1\n",
      "2\n",
      "3\n",
      "6\n",
      "6\n"
     ]
    }
   ],
   "source": [
    "def get():\n",
    "    a=int(input(\"enter a:\"))\n",
    "    b=int(input(\"enter b:\"))\n",
    "    c=int(input(\"enter c:\"))\n",
    "\n",
    "    return a,b,c,a+b+c,a*b*c\n",
    "    \n",
    "out1,out2,out3,out4,out5=get()\n",
    "print(out1)\n",
    "print(out2)\n",
    "print(out3)\n",
    "print(out4)\n",
    "print(out5)"
   ]
  },
  {
   "cell_type": "code",
   "execution_count": 11,
   "metadata": {},
   "outputs": [
    {
     "name": "stdout",
     "output_type": "stream",
     "text": [
      "enter a:10\n",
      "enter b:20\n",
      "enter c:30\n",
      "10\n",
      "30\n",
      "60\n"
     ]
    }
   ],
   "source": [
    "def get():\n",
    "    a=int(input(\"enter a:\"))\n",
    "    b=int(input(\"enter b:\"))\n",
    "    c=int(input(\"enter c:\"))\n",
    "\n",
    "    return a,a+b,a+b+c\n",
    "    \n",
    "out1,out2,out3=get()\n",
    "print(out1)\n",
    "print(out2)\n",
    "print(out3)"
   ]
  },
  {
   "cell_type": "code",
   "execution_count": 16,
   "metadata": {},
   "outputs": [
    {
     "data": {
      "text/plain": [
       "'prime'"
      ]
     },
     "execution_count": 16,
     "metadata": {},
     "output_type": "execute_result"
    }
   ],
   "source": [
    "def prime():\n",
    "    n=7\n",
    "    for i in range(2,n):\n",
    "        if n%i==0:\n",
    "            return \"not prime\"\n",
    "            break\n",
    "    else:\n",
    "        return \"prime\"\n",
    "prime()"
   ]
  },
  {
   "cell_type": "code",
   "execution_count": 18,
   "metadata": {},
   "outputs": [
    {
     "name": "stdout",
     "output_type": "stream",
     "text": [
      "its an perfect number\n"
     ]
    }
   ],
   "source": [
    "def perfect():\n",
    "    n=6\n",
    "    out=0\n",
    "    for i in range(1,n):\n",
    "        if n%i==0:\n",
    "            out+=i\n",
    "    if out==n:\n",
    "        return \"its an perfect number\"\n",
    "\n",
    "\n",
    "    else:\n",
    "        return \"it notperfect number\"\n",
    "        \n",
    "print(perfect())"
   ]
  },
  {
   "cell_type": "code",
   "execution_count": 17,
   "metadata": {},
   "outputs": [
    {
     "name": "stdout",
     "output_type": "stream",
     "text": [
      "enter the name :mom\n",
      "palindrome\n"
     ]
    }
   ],
   "source": [
    "def palindrome():\n",
    "    a=input(\"enter the name :\")\n",
    "    out=\"\"\n",
    "    for i in a:\n",
    "        out=i+out\n",
    "    if out==a:\n",
    "        return \"palindrome\"\n",
    "    else:\n",
    "        return \"not palindrome\"\n",
    "\n",
    "print(palindrome())"
   ]
  },
  {
   "cell_type": "code",
   "execution_count": 8,
   "metadata": {},
   "outputs": [
    {
     "name": "stdout",
     "output_type": "stream",
     "text": [
      "enter the number :5\n"
     ]
    },
    {
     "data": {
      "text/plain": [
       "120"
      ]
     },
     "execution_count": 8,
     "metadata": {},
     "output_type": "execute_result"
    }
   ],
   "source": [
    "def fact():\n",
    "    fact=1\n",
    "    num=int(input(\"enter the number :\"))\n",
    "    for i in range(num,0,-1):\n",
    "        fact=fact*i\n",
    "    return fact\n",
    "fact()"
   ]
  },
  {
   "cell_type": "code",
   "execution_count": 19,
   "metadata": {},
   "outputs": [
    {
     "name": "stdout",
     "output_type": "stream",
     "text": [
      "enter the number:3\n"
     ]
    },
    {
     "data": {
      "text/plain": [
       "6"
      ]
     },
     "execution_count": 19,
     "metadata": {},
     "output_type": "execute_result"
    }
   ],
   "source": [
    "def factorial():\n",
    "    n=int(input(\"enter the number:\"))\n",
    "    i=1\n",
    "    fact=1\n",
    "    while i<=n:\n",
    "        fact=fact*i\n",
    "        i+=1\n",
    "    return fact\n",
    "    \n",
    "factorial()"
   ]
  },
  {
   "cell_type": "code",
   "execution_count": 1,
   "metadata": {},
   "outputs": [
    {
     "name": "stdout",
     "output_type": "stream",
     "text": [
      "enter the string :manojmanoj\n",
      "enter the string :a\n"
     ]
    },
    {
     "data": {
      "text/plain": [
       "2"
      ]
     },
     "execution_count": 1,
     "metadata": {},
     "output_type": "execute_result"
    }
   ],
   "source": [
    "def count():\n",
    "    a=input(\"enter the string :\")\n",
    "    b=input(\"enter the string :\")\n",
    "    c=0\n",
    "    for i in a:\n",
    "        if i==b:\n",
    "            c+=1\n",
    "    return c\n",
    "count()"
   ]
  },
  {
   "cell_type": "code",
   "execution_count": 6,
   "metadata": {},
   "outputs": [
    {
     "name": "stdout",
     "output_type": "stream",
     "text": [
      "3\n"
     ]
    }
   ],
   "source": [
    "def fact():\n",
    "    a='mahendrasinghdhoni'\n",
    "    b='h'\n",
    "    count=0\n",
    "    for i in a:\n",
    "        if i=='h':\n",
    "            count+=1\n",
    "    return count\n",
    "print(fact())"
   ]
  },
  {
   "cell_type": "code",
   "execution_count": 13,
   "metadata": {},
   "outputs": [
    {
     "name": "stdout",
     "output_type": "stream",
     "text": [
      "('python', 'hi', 'hello', 'hb', 'manoj')\n"
     ]
    }
   ],
   "source": [
    "def rep():\n",
    "    f=(\"python\",\"hi\",\"hello\",\"hi\",\"hb\",\"manoj\",\"python\",\"manoj\")\n",
    "    out=()\n",
    "    for i in f:\n",
    "        if i not in out:\n",
    "            out+=(i,)\n",
    "    return out\n",
    "\n",
    "print(rep())"
   ]
  },
  {
   "cell_type": "code",
   "execution_count": 29,
   "metadata": {},
   "outputs": [
    {
     "name": "stdout",
     "output_type": "stream",
     "text": [
      "enter the string:pyspiders\n",
      "ps\n"
     ]
    }
   ],
   "source": [
    "def extract():\n",
    "    a=input(\"enter the string:\")\n",
    "    out=\"\"\n",
    "    for i in range(0,len(a)):\n",
    "        for j in range(i+1,len(a)):\n",
    "            if a[i]==a[j]:\n",
    "                out+=a[i]\n",
    "    return out\n",
    "print(extract())"
   ]
  },
  {
   "cell_type": "code",
   "execution_count": 23,
   "metadata": {},
   "outputs": [
    {
     "name": "stdout",
     "output_type": "stream",
     "text": [
      "happy holi\n"
     ]
    }
   ],
   "source": [
    "def upper():\n",
    "    a='Happy HOLI'\n",
    "    out=\"\"\n",
    "    for i in a:\n",
    "        if \"A\"<=i<\"Z\":\n",
    "            out+=chr(ord(i)+32)\n",
    "        else:\n",
    "            out+=i\n",
    "    return out\n",
    "print(upper())"
   ]
  },
  {
   "cell_type": "code",
   "execution_count": null,
   "metadata": {},
   "outputs": [],
   "source": []
  },
  {
   "cell_type": "code",
   "execution_count": null,
   "metadata": {},
   "outputs": [],
   "source": []
  },
  {
   "cell_type": "code",
   "execution_count": null,
   "metadata": {},
   "outputs": [],
   "source": []
  },
  {
   "cell_type": "markdown",
   "metadata": {},
   "source": [
    "# #type_4  :with args with return values"
   ]
  },
  {
   "cell_type": "code",
   "execution_count": 3,
   "metadata": {},
   "outputs": [
    {
     "name": "stdout",
     "output_type": "stream",
     "text": [
      "(1, 2, 3, 5, 7, 11, 13, 17, 19)\n"
     ]
    }
   ],
   "source": [
    "def prime(n):\n",
    "    out=()\n",
    "    for i in range(1,n+1):\n",
    "        ind=0\n",
    "        for j in range(2,i):\n",
    "            if i%j==0:\n",
    "                ind=1\n",
    "        if ind==0:\n",
    "            out+=(i,)\n",
    "    return out\n",
    "print(prime(20))"
   ]
  },
  {
   "cell_type": "code",
   "execution_count": 6,
   "metadata": {},
   "outputs": [
    {
     "name": "stdout",
     "output_type": "stream",
     "text": [
      "[6, 28, 496]\n"
     ]
    }
   ],
   "source": [
    "def perfect(n):\n",
    "    p=[]\n",
    "    for i in range(1,n+1):\n",
    "        out=0\n",
    "        for j in range(1,i):\n",
    "            if i%j==0:\n",
    "                out+=j\n",
    "        if out==i:\n",
    "            p+=[i]\n",
    "    return p\n",
    "print(perfect(1000))"
   ]
  },
  {
   "cell_type": "code",
   "execution_count": 11,
   "metadata": {},
   "outputs": [
    {
     "name": "stdout",
     "output_type": "stream",
     "text": [
      "enter username :pyspyiders\n",
      "enter password :py@123\n",
      "login sucessfully\n"
     ]
    }
   ],
   "source": [
    "def login(user,passwords):\n",
    "    username='pyspyiders'\n",
    "    password='py@123'\n",
    "    if user==username:\n",
    "        if passwords==password:\n",
    "            return 'login sucessfully'\n",
    "        else:\n",
    "            return 'password error'\n",
    "    else:\n",
    "        return 'invlaid user'\n",
    "print(login(input('enter username :'),input('enter password :')))"
   ]
  },
  {
   "cell_type": "code",
   "execution_count": 17,
   "metadata": {},
   "outputs": [
    {
     "name": "stdout",
     "output_type": "stream",
     "text": [
      "0\n",
      "1\n",
      "1\n",
      "2\n",
      "3\n",
      "5\n",
      "8\n",
      "13\n",
      "21\n",
      "34\n",
      "executed sucessfully\n"
     ]
    }
   ],
   "source": [
    "def fibonacci(m):\n",
    "    a=0\n",
    "    b=1\n",
    "    print(a)\n",
    "    print(b)\n",
    "    while b<=m:\n",
    "        n=a+b\n",
    "        a=b\n",
    "        b=n\n",
    "        print(n)\n",
    "    return 'executed sucessfully'\n",
    "print(fibonacci(25))\n",
    "        "
   ]
  },
  {
   "cell_type": "code",
   "execution_count": 31,
   "metadata": {},
   "outputs": [
    {
     "name": "stdout",
     "output_type": "stream",
     "text": [
      "enter the number:5\n",
      "[0, 1, 1, 2, 3, 5, 8]\n",
      "5 is a fibonacci number\n"
     ]
    }
   ],
   "source": [
    "def fibonacci(m):\n",
    "    out=[]\n",
    "    a=0\n",
    "    b=1\n",
    "    out+=[a,b]\n",
    "    while b<=m:\n",
    "        n=a+b\n",
    "        a=b\n",
    "        b=n\n",
    "        out+=[n]\n",
    "    print(out)\n",
    "    if m in out:\n",
    "        return (f'{m} is a fibonacci number')\n",
    "    else:\n",
    "        return (f'{m} is not a fibonacci number')\n",
    "print(fibonacci(int(input('enter the number:'))))"
   ]
  },
  {
   "cell_type": "code",
   "execution_count": 21,
   "metadata": {},
   "outputs": [
    {
     "name": "stdout",
     "output_type": "stream",
     "text": [
      "[1, 2, 6, 24, 120]\n"
     ]
    }
   ],
   "source": [
    "def fact(n):\n",
    "    out=[]\n",
    "    for i in range(1,n+1):\n",
    "        p=1\n",
    "        for j in range(1,i+1):\n",
    "            p*=j\n",
    "        out+=[p]\n",
    "    return out\n",
    "print(fact(5))"
   ]
  },
  {
   "cell_type": "code",
   "execution_count": null,
   "metadata": {},
   "outputs": [],
   "source": []
  },
  {
   "cell_type": "code",
   "execution_count": null,
   "metadata": {},
   "outputs": [],
   "source": []
  },
  {
   "cell_type": "code",
   "execution_count": 120,
   "metadata": {},
   "outputs": [
    {
     "name": "stdout",
     "output_type": "stream",
     "text": [
      "PYTHON PROGramming\n"
     ]
    }
   ],
   "source": [
    "def up(m,n):\n",
    "    sum=''\n",
    "    for i in range(len(m)):\n",
    "        if i<=n:\n",
    "            sum=sum+m[i].upper()\n",
    "        else:\n",
    "            sum=sum+m[i]\n",
    "    print(sum)\n",
    "up('python programming',10)"
   ]
  },
  {
   "cell_type": "code",
   "execution_count": 121,
   "metadata": {},
   "outputs": [
    {
     "name": "stdout",
     "output_type": "stream",
     "text": [
      "[(1, 1), (4, 8), (9, 27), (16, 64), (25, 125), (36, 216), (49, 343), (64, 512), (81, 729), (100, 1000)]\n"
     ]
    }
   ],
   "source": [
    "def cube(num):\n",
    "    d={}\n",
    "    res=[]\n",
    "    for i in range(1,num+1):\n",
    "        c=i**3\n",
    "        d[c]=i\n",
    "        if i**2 in d:\n",
    "            t=(d[i**2],i)\n",
    "        if t not in res:\n",
    "            res+=[t]\n",
    "    print(res)\n",
    "cube(1000)"
   ]
  },
  {
   "cell_type": "code",
   "execution_count": 122,
   "metadata": {},
   "outputs": [
    {
     "name": "stdout",
     "output_type": "stream",
     "text": [
      "10\n"
     ]
    }
   ],
   "source": [
    "def cube(num):\n",
    "    d={}\n",
    "    res=[]\n",
    "    for i in range(1,num+1):\n",
    "        c=i**3\n",
    "        d[c]=i\n",
    "        if i**2 in d:\n",
    "            t=(d[i**2],i)\n",
    "        if t not in res:\n",
    "            res+=[t]\n",
    "    print(len(res))\n",
    "cube(1000)"
   ]
  },
  {
   "cell_type": "code",
   "execution_count": 124,
   "metadata": {},
   "outputs": [
    {
     "name": "stdout",
     "output_type": "stream",
     "text": [
      "10\n"
     ]
    }
   ],
   "source": [
    "d={'a':2,'b':True,'c':{'p':1,'q':2,'r':{'s':7,'t':2},'v':4}}\n",
    "def extract_sum(d):\n",
    "    out=0\n",
    "    for i in d:\n",
    "        if type(d[i])==int and d[i]%2==0:\n",
    "            out+=d[i]\n",
    "        elif type(d[i])==dict:\n",
    "            out+=extract_sum(d[i])\n",
    "        else:\n",
    "            continue\n",
    "    return out\n",
    "print(extract_sum(d))"
   ]
  },
  {
   "cell_type": "code",
   "execution_count": 125,
   "metadata": {},
   "outputs": [
    {
     "name": "stdout",
     "output_type": "stream",
     "text": [
      "18\n"
     ]
    }
   ],
   "source": [
    "d={'a':2,'b':True,'c':{'p':1,'q':2,'r':{'s':7,'t':2,'n':{'2':2,'3':{'6':6}}},'v':4}}\n",
    "def extract_sum(d):\n",
    "    out=0\n",
    "    for i in d:\n",
    "        if type(d[i])==int and d[i]%2==0:\n",
    "            out+=d[i]\n",
    "        elif type(d[i])==dict:\n",
    "            out+=extract_sum(d[i])\n",
    "        else:\n",
    "            continue\n",
    "    return out\n",
    "print(extract_sum(d))"
   ]
  },
  {
   "cell_type": "code",
   "execution_count": null,
   "metadata": {},
   "outputs": [],
   "source": []
  },
  {
   "cell_type": "code",
   "execution_count": null,
   "metadata": {},
   "outputs": [],
   "source": []
  },
  {
   "cell_type": "code",
   "execution_count": null,
   "metadata": {},
   "outputs": [],
   "source": []
  },
  {
   "cell_type": "markdown",
   "metadata": {},
   "source": [
    "# Global,Local & non-local variable"
   ]
  },
  {
   "cell_type": "code",
   "execution_count": 18,
   "metadata": {},
   "outputs": [
    {
     "name": "stdout",
     "output_type": "stream",
     "text": [
      "10 20\n",
      "30\n",
      "10 20\n",
      "30\n",
      "30\n",
      "10 20\n"
     ]
    }
   ],
   "source": [
    "a,b=10,20\n",
    "def sam():\n",
    "    print(a,b)\n",
    "    print(a+b)\n",
    "print(a,b)\n",
    "print(a+b)\n",
    "sam()\n",
    "print(a+b)\n",
    "print(a,b)"
   ]
  },
  {
   "cell_type": "code",
   "execution_count": 19,
   "metadata": {},
   "outputs": [
    {
     "name": "stdout",
     "output_type": "stream",
     "text": [
      "10 20\n",
      "30\n",
      "10 10\n",
      "20\n",
      "30\n",
      "10 20\n"
     ]
    }
   ],
   "source": [
    "a,b=10,20\n",
    "def sam():\n",
    "    b=10\n",
    "    print(a,b)\n",
    "    print(a+b)\n",
    "print(a,b)\n",
    "print(a+b)\n",
    "sam()\n",
    "print(a+b)\n",
    "print(a,b)"
   ]
  },
  {
   "cell_type": "code",
   "execution_count": 20,
   "metadata": {},
   "outputs": [
    {
     "name": "stdout",
     "output_type": "stream",
     "text": [
      "10 20\n",
      "30\n",
      "10 10\n",
      "20\n",
      "20\n",
      "10 10\n"
     ]
    }
   ],
   "source": [
    "a,b=10,20\n",
    "def sam():\n",
    "    global b\n",
    "    b=10\n",
    "    print(a,b)\n",
    "    print(a+b)\n",
    "print(a,b)\n",
    "print(a+b)\n",
    "sam()\n",
    "print(a+b)\n",
    "print(a,b)"
   ]
  },
  {
   "cell_type": "code",
   "execution_count": 26,
   "metadata": {},
   "outputs": [
    {
     "name": "stdout",
     "output_type": "stream",
     "text": [
      "10 20\n"
     ]
    }
   ],
   "source": [
    "a,b=10,20\n",
    "def sam():\n",
    "    print(a,b)\n",
    "    print(a+b)\n",
    "    def inner():\n",
    "        p,q=1,2\n",
    "        print(p,q)\n",
    "        print(a,b)\n",
    "        print(p+q)\n",
    "    inner()\n",
    "print(a,b)               #here sam() function call  not called so we got only 10,20"
   ]
  },
  {
   "cell_type": "code",
   "execution_count": 27,
   "metadata": {},
   "outputs": [
    {
     "name": "stdout",
     "output_type": "stream",
     "text": [
      "10 20\n",
      "10 20\n",
      "30\n",
      "1 2\n",
      "10 20\n",
      "3\n"
     ]
    }
   ],
   "source": [
    "a,b=10,20\n",
    "def sam():\n",
    "    print(a,b)\n",
    "    print(a+b)\n",
    "    def inner():\n",
    "        p,q=1,2\n",
    "        print(p,q)\n",
    "        print(a,b)\n",
    "        print(p+q)\n",
    "    inner()\n",
    "print(a,b)\n",
    "sam()                              #here sam() function called"
   ]
  },
  {
   "cell_type": "code",
   "execution_count": 58,
   "metadata": {},
   "outputs": [
    {
     "name": "stdout",
     "output_type": "stream",
     "text": [
      "10 20\n",
      "10 20\n",
      "30\n",
      "1 2\n",
      "10 20\n",
      "3\n"
     ]
    },
    {
     "ename": "NameError",
     "evalue": "name 'q' is not defined",
     "output_type": "error",
     "traceback": [
      "\u001b[1;31m---------------------------------------------------------------------------\u001b[0m",
      "\u001b[1;31mNameError\u001b[0m                                 Traceback (most recent call last)",
      "\u001b[1;32m<ipython-input-58-aff4ab2d4da5>\u001b[0m in \u001b[0;36m<module>\u001b[1;34m\u001b[0m\n\u001b[0;32m     11\u001b[0m     \u001b[0mprint\u001b[0m\u001b[1;33m(\u001b[0m\u001b[0mp\u001b[0m\u001b[1;33m,\u001b[0m\u001b[0mq\u001b[0m\u001b[1;33m)\u001b[0m\u001b[1;33m\u001b[0m\u001b[1;33m\u001b[0m\u001b[0m\n\u001b[0;32m     12\u001b[0m \u001b[0mprint\u001b[0m\u001b[1;33m(\u001b[0m\u001b[0ma\u001b[0m\u001b[1;33m,\u001b[0m\u001b[0mb\u001b[0m\u001b[1;33m)\u001b[0m\u001b[1;33m\u001b[0m\u001b[1;33m\u001b[0m\u001b[0m\n\u001b[1;32m---> 13\u001b[1;33m \u001b[0msam\u001b[0m\u001b[1;33m(\u001b[0m\u001b[1;33m)\u001b[0m    \u001b[1;31m#here print(p,q) is wrong,because it's an local var.. but it's in global var..\u001b[0m\u001b[1;33m\u001b[0m\u001b[1;33m\u001b[0m\u001b[0m\n\u001b[0m",
      "\u001b[1;32m<ipython-input-58-aff4ab2d4da5>\u001b[0m in \u001b[0;36msam\u001b[1;34m()\u001b[0m\n\u001b[0;32m      9\u001b[0m         \u001b[0mprint\u001b[0m\u001b[1;33m(\u001b[0m\u001b[0mp\u001b[0m\u001b[1;33m+\u001b[0m\u001b[0mq\u001b[0m\u001b[1;33m)\u001b[0m\u001b[1;33m\u001b[0m\u001b[1;33m\u001b[0m\u001b[0m\n\u001b[0;32m     10\u001b[0m     \u001b[0minner\u001b[0m\u001b[1;33m(\u001b[0m\u001b[1;33m)\u001b[0m\u001b[1;33m\u001b[0m\u001b[1;33m\u001b[0m\u001b[0m\n\u001b[1;32m---> 11\u001b[1;33m     \u001b[0mprint\u001b[0m\u001b[1;33m(\u001b[0m\u001b[0mp\u001b[0m\u001b[1;33m,\u001b[0m\u001b[0mq\u001b[0m\u001b[1;33m)\u001b[0m\u001b[1;33m\u001b[0m\u001b[1;33m\u001b[0m\u001b[0m\n\u001b[0m\u001b[0;32m     12\u001b[0m \u001b[0mprint\u001b[0m\u001b[1;33m(\u001b[0m\u001b[0ma\u001b[0m\u001b[1;33m,\u001b[0m\u001b[0mb\u001b[0m\u001b[1;33m)\u001b[0m\u001b[1;33m\u001b[0m\u001b[1;33m\u001b[0m\u001b[0m\n\u001b[0;32m     13\u001b[0m \u001b[0msam\u001b[0m\u001b[1;33m(\u001b[0m\u001b[1;33m)\u001b[0m    \u001b[1;31m#here print(p,q) is wrong,because it's an local var.. but it's in global var..\u001b[0m\u001b[1;33m\u001b[0m\u001b[1;33m\u001b[0m\u001b[0m\n",
      "\u001b[1;31mNameError\u001b[0m: name 'q' is not defined"
     ]
    }
   ],
   "source": [
    "a,b=10,20\n",
    "def sam():\n",
    "    print(a,b)\n",
    "    print(a+b)\n",
    "    def inner():\n",
    "        p,q=1,2\n",
    "        print(p,q)\n",
    "        print(a,b)\n",
    "        print(p+q)\n",
    "    inner()\n",
    "    print(p,q)\n",
    "print(a,b)\n",
    "sam()    #here print(p,q) is wrong,because it's an local var.. but it's in global var.."
   ]
  },
  {
   "cell_type": "code",
   "execution_count": 29,
   "metadata": {},
   "outputs": [
    {
     "name": "stdout",
     "output_type": "stream",
     "text": [
      "10 20\n",
      "10 20\n",
      "30\n",
      "1 2\n",
      "10 20\n",
      "3\n"
     ]
    }
   ],
   "source": [
    "a,b=10,20\n",
    "def sam():\n",
    "    p,q=1,2\n",
    "    print(a,b)\n",
    "    print(a+b)\n",
    "    def inner():\n",
    "        print(p,q)\n",
    "        print(a,b)\n",
    "        print(p+q)\n",
    "    inner()\n",
    "print(a,b)\n",
    "sam()"
   ]
  },
  {
   "cell_type": "code",
   "execution_count": 30,
   "metadata": {},
   "outputs": [
    {
     "name": "stdout",
     "output_type": "stream",
     "text": [
      "10 20\n",
      "10 20\n",
      "30\n",
      "1 200\n",
      "10 20\n",
      "201\n",
      "1 200\n"
     ]
    }
   ],
   "source": [
    "a,b=10,20\n",
    "def sam():\n",
    "    p,q=1,2\n",
    "    print(a,b)\n",
    "    print(a+b)\n",
    "    def inner():\n",
    "        nonlocal q\n",
    "        q=200\n",
    "        print(p,q)\n",
    "        print(a,b)\n",
    "        print(p+q)\n",
    "    inner()\n",
    "    print(p,q)\n",
    "print(a,b)\n",
    "sam()"
   ]
  },
  {
   "cell_type": "code",
   "execution_count": 33,
   "metadata": {},
   "outputs": [
    {
     "ename": "NameError",
     "evalue": "name 'q' is not defined",
     "output_type": "error",
     "traceback": [
      "\u001b[1;31m---------------------------------------------------------------------------\u001b[0m",
      "\u001b[1;31mNameError\u001b[0m                                 Traceback (most recent call last)",
      "\u001b[1;32m<ipython-input-33-23c90a992060>\u001b[0m in \u001b[0;36m<module>\u001b[1;34m\u001b[0m\n\u001b[0;32m      8\u001b[0m         \u001b[0mprint\u001b[0m\u001b[1;33m(\u001b[0m\u001b[0ma\u001b[0m\u001b[1;33m,\u001b[0m\u001b[0mb\u001b[0m\u001b[1;33m)\u001b[0m\u001b[1;33m\u001b[0m\u001b[1;33m\u001b[0m\u001b[0m\n\u001b[0;32m      9\u001b[0m     \u001b[0minner\u001b[0m\u001b[1;33m(\u001b[0m\u001b[1;33m)\u001b[0m\u001b[1;33m\u001b[0m\u001b[1;33m\u001b[0m\u001b[0m\n\u001b[1;32m---> 10\u001b[1;33m \u001b[0mprint\u001b[0m\u001b[1;33m(\u001b[0m\u001b[0mp\u001b[0m\u001b[1;33m,\u001b[0m\u001b[0mq\u001b[0m\u001b[1;33m)\u001b[0m\u001b[1;33m\u001b[0m\u001b[1;33m\u001b[0m\u001b[0m\n\u001b[0m\u001b[0;32m     11\u001b[0m \u001b[0mouter\u001b[0m\u001b[1;33m(\u001b[0m\u001b[1;33m)\u001b[0m\u001b[1;33m\u001b[0m\u001b[1;33m\u001b[0m\u001b[0m\n",
      "\u001b[1;31mNameError\u001b[0m: name 'q' is not defined"
     ]
    }
   ],
   "source": [
    "a,b=10,20              # Globalvar...\n",
    "def outer():         \n",
    "    p,q=1,2            # Local var...\n",
    "    print(a,b)\n",
    "    print(p,q)\n",
    "    def inner():\n",
    "        print(p,q)\n",
    "        print(a,b)\n",
    "    inner()\n",
    "print(p,q)             # error\n",
    "outer() #here print(p,q) is wrong,because it's an local var.. but it's in global var.."
   ]
  },
  {
   "cell_type": "code",
   "execution_count": 35,
   "metadata": {},
   "outputs": [
    {
     "name": "stdout",
     "output_type": "stream",
     "text": [
      "10 20\n",
      "1 2\n",
      "1 2\n",
      "10 20\n"
     ]
    }
   ],
   "source": [
    "a,b=10,20\n",
    "def outer():\n",
    "    p,q=1,2\n",
    "    print(a,b)\n",
    "    print(p,q)\n",
    "    def inner():\n",
    "        print(p,q)\n",
    "        print(a,b)\n",
    "    inner()\n",
    "outer()"
   ]
  },
  {
   "cell_type": "code",
   "execution_count": 37,
   "metadata": {},
   "outputs": [
    {
     "name": "stdout",
     "output_type": "stream",
     "text": [
      "1 2\n",
      "10 20\n",
      "100 2\n",
      "10 20\n",
      "100 2\n"
     ]
    }
   ],
   "source": [
    "a,b=10,20\n",
    "def outer():\n",
    "    p,q=1,2\n",
    "    print(p,q)\n",
    "    print(a,b)\n",
    "    def inner():\n",
    "        nonlocal p\n",
    "        p=100\n",
    "        print(p,q)\n",
    "        print(a,b)\n",
    "    inner()\n",
    "    print(p,q)\n",
    "outer()"
   ]
  },
  {
   "cell_type": "code",
   "execution_count": null,
   "metadata": {},
   "outputs": [],
   "source": []
  },
  {
   "cell_type": "markdown",
   "metadata": {},
   "source": [
    "## formal and actual arguments\n"
   ]
  },
  {
   "cell_type": "code",
   "execution_count": 20,
   "metadata": {},
   "outputs": [
    {
     "name": "stdout",
     "output_type": "stream",
     "text": [
      "1\n",
      "2\n",
      "3\n"
     ]
    }
   ],
   "source": [
    "def fname(a,b,c):\n",
    "    print(a)\n",
    "    print(b)\n",
    "    print(c)\n",
    "fname(1,2,3)"
   ]
  },
  {
   "cell_type": "code",
   "execution_count": 21,
   "metadata": {
    "scrolled": true
   },
   "outputs": [
    {
     "name": "stdout",
     "output_type": "stream",
     "text": [
      "1\n",
      "2\n",
      "3\n",
      "0\n",
      "True\n"
     ]
    }
   ],
   "source": [
    "def fname(a,b,c,d=0,e=True):\n",
    "    print(a)\n",
    "    print(b)\n",
    "    print(c)\n",
    "    print(d)\n",
    "    print(e)\n",
    "fname(1,2,3)"
   ]
  },
  {
   "cell_type": "code",
   "execution_count": 22,
   "metadata": {},
   "outputs": [
    {
     "name": "stdout",
     "output_type": "stream",
     "text": [
      "1\n",
      "2\n",
      "3\n",
      "4\n",
      "5\n"
     ]
    }
   ],
   "source": [
    "def fname(a,b,c,d=0,e=True):\n",
    "    print(a)\n",
    "    print(b)\n",
    "    print(c)\n",
    "    print(d)\n",
    "    print(e)\n",
    "fname(1,2,3,4,5)"
   ]
  },
  {
   "cell_type": "code",
   "execution_count": 51,
   "metadata": {},
   "outputs": [
    {
     "name": "stdout",
     "output_type": "stream",
     "text": [
      "manoj 7338223834 manojhb12345@gmail.com None None\n"
     ]
    }
   ],
   "source": [
    "def user_details(name,phno,mail,alt_phno=None,alt_mail=None):\n",
    "    print(name,phno,mail,alt_phno,alt_mail)\n",
    "user_details('manoj',7338223834,'manojhb12345@gmail.com')"
   ]
  },
  {
   "cell_type": "code",
   "execution_count": 52,
   "metadata": {},
   "outputs": [
    {
     "name": "stdout",
     "output_type": "stream",
     "text": [
      "manoj 7338223834 manojhb12345@gmail.com 9481360397 manoj@12\n"
     ]
    }
   ],
   "source": [
    "def user_details(name,phno,mail,alt_phno=None,alt_mail=None):\n",
    "    print(name,phno,mail,alt_phno,alt_mail)\n",
    "user_details('manoj',7338223834,'manojhb12345@gmail.com',9481360397,'manoj@12')"
   ]
  },
  {
   "cell_type": "code",
   "execution_count": 53,
   "metadata": {},
   "outputs": [
    {
     "name": "stdout",
     "output_type": "stream",
     "text": [
      "3\n"
     ]
    }
   ],
   "source": [
    "def add(a,b,c=0,d=0,e=0):\n",
    "    print(a+b+c+d+e)\n",
    "add(1,2)"
   ]
  },
  {
   "cell_type": "code",
   "execution_count": 57,
   "metadata": {},
   "outputs": [
    {
     "name": "stdout",
     "output_type": "stream",
     "text": [
      "15\n"
     ]
    }
   ],
   "source": [
    "def add(a,b,c=0,d=0,e=0):\n",
    "    print(a+b+c+d+e)\n",
    "add(1,2,3,4,5)"
   ]
  },
  {
   "cell_type": "markdown",
   "metadata": {},
   "source": [
    "# packing and unpacking"
   ]
  },
  {
   "cell_type": "markdown",
   "metadata": {},
   "source": [
    "## packing"
   ]
  },
  {
   "cell_type": "code",
   "execution_count": 6,
   "metadata": {},
   "outputs": [
    {
     "name": "stdout",
     "output_type": "stream",
     "text": [
      "(1, 2, 3, 4, 5, 6, 7, 8, 9)\n",
      "<class 'tuple'>\n"
     ]
    }
   ],
   "source": [
    "#tuple packing\n",
    "\n",
    "def tuple_pack(*t):\n",
    "    print(t)\n",
    "    print(type(t))\n",
    "tuple_pack(1,2,3,4,5,6,7,8,9)"
   ]
  },
  {
   "cell_type": "code",
   "execution_count": 8,
   "metadata": {},
   "outputs": [
    {
     "name": "stdout",
     "output_type": "stream",
     "text": [
      "{'a': 1, 'b': 2, 'c': 3, 'd': 4}\n",
      "<class 'dict'>\n"
     ]
    }
   ],
   "source": [
    "#dictionary packing\n",
    "\n",
    "def dict_pack(**d):\n",
    "    print(d)\n",
    "    print(type(d))\n",
    "dict_pack(a=1,b=2,c=3,d=4)"
   ]
  },
  {
   "cell_type": "code",
   "execution_count": 10,
   "metadata": {},
   "outputs": [
    {
     "name": "stdout",
     "output_type": "stream",
     "text": [
      "('list',)\n"
     ]
    }
   ],
   "source": [
    "def collection(*a,out=()):\n",
    "    for i in range(len(a)):\n",
    "        if i%2==1 and type(a[i]) in (str,list,tuple,set,dict):\n",
    "            out+=(a[i],)\n",
    "    return out\n",
    "print(collection(3,4.5,'string','list',True,10,20,))"
   ]
  },
  {
   "cell_type": "code",
   "execution_count": 12,
   "metadata": {},
   "outputs": [
    {
     "name": "stdout",
     "output_type": "stream",
     "text": [
      "1\n",
      "2\n",
      "6\n",
      "24\n",
      "120\n"
     ]
    }
   ],
   "source": [
    "def fact(*n):\n",
    "    for i in n:\n",
    "        if type(i)==int:\n",
    "            p=1\n",
    "            for j in range(1,i+1):\n",
    "                p*=j\n",
    "            print(p)\n",
    "fact(1,2,3,'hai',4,5)"
   ]
  },
  {
   "cell_type": "markdown",
   "metadata": {},
   "source": [
    "# unpacking"
   ]
  },
  {
   "cell_type": "code",
   "execution_count": 2,
   "metadata": {},
   "outputs": [
    {
     "name": "stdout",
     "output_type": "stream",
     "text": [
      "h a i i i\n"
     ]
    }
   ],
   "source": [
    "p='haiii'\n",
    "def string(a,b,c,d,e):\n",
    "    print(a,b,c,d,e)\n",
    "string(*p)"
   ]
  },
  {
   "cell_type": "code",
   "execution_count": 4,
   "metadata": {},
   "outputs": [
    {
     "name": "stdout",
     "output_type": "stream",
     "text": [
      "a b c d\n"
     ]
    }
   ],
   "source": [
    "def string(a,b,c,d):\n",
    "    print(a,b,c,d)\n",
    "string(*{'a':2,'b':4,'c':6,'d':8})"
   ]
  },
  {
   "cell_type": "code",
   "execution_count": 6,
   "metadata": {},
   "outputs": [
    {
     "name": "stdout",
     "output_type": "stream",
     "text": [
      "2 4 6 8\n"
     ]
    }
   ],
   "source": [
    "def string(a,b,c,d):\n",
    "    print(a,b,c,d)\n",
    "string(**{'a':2,'b':4,'c':6,'d':8})"
   ]
  },
  {
   "cell_type": "markdown",
   "metadata": {},
   "source": [
    "# packing tuple and dict in a single function"
   ]
  },
  {
   "cell_type": "code",
   "execution_count": 9,
   "metadata": {},
   "outputs": [
    {
     "name": "stdout",
     "output_type": "stream",
     "text": [
      "(10, 20, 30) <class 'tuple'>\n",
      "{} <class 'dict'>\n"
     ]
    }
   ],
   "source": [
    "def tuple_dict(*a,**b):\n",
    "    print(a,type(a))\n",
    "    print(b,type(b))\n",
    "tuple_dict(10,20,30)"
   ]
  },
  {
   "cell_type": "code",
   "execution_count": 10,
   "metadata": {},
   "outputs": [
    {
     "name": "stdout",
     "output_type": "stream",
     "text": [
      "() <class 'tuple'>\n",
      "{'p': 10, 'q': 20, 'r': 30, 's': 40} <class 'dict'>\n"
     ]
    }
   ],
   "source": [
    "def tuple_dict(*a,**b):\n",
    "    print(a,type(a))\n",
    "    print(b,type(b))\n",
    "tuple_dict(p=10,q=20,r=30,s=40)"
   ]
  },
  {
   "cell_type": "code",
   "execution_count": 11,
   "metadata": {},
   "outputs": [
    {
     "name": "stdout",
     "output_type": "stream",
     "text": [
      "(10, 20, 30, 40, 50) <class 'tuple'>\n",
      "{'p': 10, 'q': 20, 'r': 30, 's': 40} <class 'dict'>\n"
     ]
    }
   ],
   "source": [
    "def tuple_dict(*a,**b):\n",
    "    print(a,type(a))\n",
    "    print(b,type(b))\n",
    "tuple_dict(10,20,30,40,50,p=10,q=20,r=30,s=40)"
   ]
  },
  {
   "cell_type": "markdown",
   "metadata": {},
   "source": [
    "# Recursion"
   ]
  },
  {
   "cell_type": "code",
   "execution_count": 13,
   "metadata": {},
   "outputs": [
    {
     "name": "stdout",
     "output_type": "stream",
     "text": [
      "hello\n",
      "hello\n",
      "hello\n",
      "hello\n",
      "hello\n"
     ]
    }
   ],
   "source": [
    "def sam(i=0):\n",
    "    if i>=5:\n",
    "        return\n",
    "    print('hello')\n",
    "    return sam(i+1)\n",
    "sam()"
   ]
  },
  {
   "cell_type": "code",
   "execution_count": 14,
   "metadata": {},
   "outputs": [
    {
     "name": "stdout",
     "output_type": "stream",
     "text": [
      "120\n"
     ]
    }
   ],
   "source": [
    "def fact(n,f=1,i=1):\n",
    "    if i>n:\n",
    "        return f\n",
    "    f*=i\n",
    "    return fact(n,f,i+1)\n",
    "print(fact(5))"
   ]
  },
  {
   "cell_type": "code",
   "execution_count": 15,
   "metadata": {},
   "outputs": [
    {
     "name": "stdout",
     "output_type": "stream",
     "text": [
      "120\n"
     ]
    }
   ],
   "source": [
    "def factorial(n):\n",
    "    if n<=1:\n",
    "        return 1\n",
    "    return n*factorial(n-1)\n",
    "print(factorial(5))"
   ]
  },
  {
   "cell_type": "code",
   "execution_count": null,
   "metadata": {},
   "outputs": [],
   "source": []
  },
  {
   "cell_type": "code",
   "execution_count": null,
   "metadata": {},
   "outputs": [],
   "source": []
  },
  {
   "cell_type": "code",
   "execution_count": null,
   "metadata": {},
   "outputs": [],
   "source": []
  },
  {
   "cell_type": "markdown",
   "metadata": {},
   "source": [
    "# Oops"
   ]
  },
  {
   "cell_type": "code",
   "execution_count": 37,
   "metadata": {},
   "outputs": [
    {
     "name": "stdout",
     "output_type": "stream",
     "text": [
      "<class '__main__.sample'>\n"
     ]
    }
   ],
   "source": [
    "class sample:\n",
    "    pass  \n",
    "\n",
    "\n",
    "obj=sample()\n",
    "print(type(obj))"
   ]
  },
  {
   "cell_type": "code",
   "execution_count": 2,
   "metadata": {},
   "outputs": [
    {
     "name": "stdout",
     "output_type": "stream",
     "text": [
      "10\n",
      "20\n"
     ]
    }
   ],
   "source": [
    "class sample:\n",
    "    a=10\n",
    "    b=20\n",
    "obj1=sample()\n",
    "obj2=sample()\n",
    "print(obj1.a)\n",
    "print(obj2.b)"
   ]
  },
  {
   "cell_type": "code",
   "execution_count": 3,
   "metadata": {},
   "outputs": [
    {
     "name": "stdout",
     "output_type": "stream",
     "text": [
      "10\n",
      "20\n"
     ]
    }
   ],
   "source": [
    "class sample:\n",
    "    a=10\n",
    "    b=20\n",
    "obj1=sample()\n",
    "obj2=sample()\n",
    "print(sample.a)\n",
    "print(sample.b)"
   ]
  },
  {
   "cell_type": "code",
   "execution_count": 4,
   "metadata": {},
   "outputs": [
    {
     "name": "stdout",
     "output_type": "stream",
     "text": [
      "Manoj kendriya vidyalaya 7338223834\n",
      "Manu kendriya vidyalaya 7338663834\n",
      "Anu kendriya vidyalaya 7335623834\n",
      "Mr.Anurag Bhat 73345623834\n"
     ]
    }
   ],
   "source": [
    "class school:\n",
    "    sname='kendriya vidyalaya'\n",
    "    sadd='Bengaluru'\n",
    "    sprincipal='Mr.Anurag Bhat'\n",
    "\n",
    "student1=school()\n",
    "student1.name='Manoj'\n",
    "student1.phno='7338223834'\n",
    "\n",
    "student2=school()\n",
    "student2.name='Manu'\n",
    "student2.phno='7338663834'\n",
    "\n",
    "student3=school()\n",
    "student3.name='Anu'\n",
    "student3.phno='7335623834'\n",
    "\n",
    "school.sphno=73345623834\n",
    "\n",
    "print(student1.name,student1.sname,student1.phno)\n",
    "print(student2.name,student2.sname,student2.phno)\n",
    "print(student3.name,student3.sname,student3.phno)\n",
    "print(school.sprincipal,school.sphno)"
   ]
  },
  {
   "cell_type": "code",
   "execution_count": 5,
   "metadata": {},
   "outputs": [
    {
     "name": "stdout",
     "output_type": "stream",
     "text": [
      "manoj 7338223834 m@gmail.com Mahesh 102 python\n",
      "manu 73385673834 k@gmail.com Mahesh 102 python\n"
     ]
    }
   ],
   "source": [
    "class spya7:\n",
    "    trainer='Mahesh'\n",
    "    roomno=102\n",
    "    sub='python'\n",
    "\n",
    "student1=spya7()\n",
    "student1.name='manoj'\n",
    "student1.phno=7338223834\n",
    "student1.mail='m@gmail.com'\n",
    "\n",
    "student2=spya7()\n",
    "student2.name='manu'\n",
    "student2.phno=73385673834\n",
    "student2.mail='k@gmail.com'\n",
    "\n",
    "print(student1.name,student1.phno,student1.mail,student1.trainer,student1.roomno,student1.sub)\n",
    "print(student2.name,student2.phno,student2.mail,student2.trainer,student2.roomno,student2.sub)"
   ]
  },
  {
   "cell_type": "code",
   "execution_count": 6,
   "metadata": {},
   "outputs": [
    {
     "name": "stdout",
     "output_type": "stream",
     "text": [
      "Mr.Niranjan SBI\n",
      "Mr.vishal SBI\n"
     ]
    }
   ],
   "source": [
    "class bank:\n",
    "    bname='SBI'\n",
    "    IFSC='SBI009'\n",
    "    branch='BTM,Bengaluru'\n",
    "    bmanager='Ms.Samatha'\n",
    "\n",
    "customer1=bank()\n",
    "customer1.name='Mr.Niranjan'\n",
    "customer1.phno=7338223834\n",
    "customer1.mail='m@gmail.com'\n",
    "customer1.pan='EXP2019'\n",
    "\n",
    "customer2=bank()\n",
    "customer2.name='Mr.vishal'\n",
    "customer2.phno=7668223834\n",
    "customer2.mail='v@gmail.com'\n",
    "customer2.pan='VHPP2019'\n",
    "\n",
    "print(customer1.name,customer1.bname)\n",
    "print(customer2.name,customer2.bname)"
   ]
  },
  {
   "cell_type": "code",
   "execution_count": 10,
   "metadata": {},
   "outputs": [
    {
     "name": "stdout",
     "output_type": "stream",
     "text": [
      "manoj m@gmail.com SBI\n",
      "anu AANJ34 SBI\n"
     ]
    }
   ],
   "source": [
    "class bank:\n",
    "    bname='SBI'\n",
    "    IFSC='SBI009'\n",
    "    branch='BTM,Bengaluru'\n",
    "    bmanager='Ms.Samatha'\n",
    "\n",
    "    def  __init__(a,name,phno,mail,pan):\n",
    "        a.name=name\n",
    "        a.phno=phno\n",
    "        a.mail=mail\n",
    "        a.pan=pan\n",
    "\n",
    "obj1=bank('manoj',7338223834,'m@gmail.com','PANJ34')\n",
    "obj2=bank('anu',7338773834,'a@gmail.com','AANJ34')\n",
    "print(obj1.name,obj1.mail,obj1.bname)\n",
    "print(obj2.name,obj2.pan,obj2.bname)"
   ]
  },
  {
   "cell_type": "code",
   "execution_count": 11,
   "metadata": {},
   "outputs": [
    {
     "name": "stdout",
     "output_type": "stream",
     "text": [
      "manoj m@gmail.com SBI\n",
      "anu AANJ34 SBI\n",
      "<__main__.bank object at 0x000000B4EF6588E0>\n"
     ]
    }
   ],
   "source": [
    "class bank:\n",
    "    bname='SBI'\n",
    "    IFSC='SBI009'\n",
    "    branch='BTM,Bengaluru'\n",
    "    bmanager='Ms.Samatha'\n",
    "\n",
    "    def  __init__(a,name,phno,mail,pan):\n",
    "        a.name=name\n",
    "        a.phno=phno\n",
    "        a.mail=mail\n",
    "        a.pan=pan\n",
    "\n",
    "obj1=bank('manoj',7338223834,'m@gmail.com','PANJ34')\n",
    "obj2=bank('anu',7338773834,'a@gmail.com','AANJ34')\n",
    "print(obj1.name,obj1.mail,obj1.bname)\n",
    "print(obj2.name,obj2.pan,obj2.bname)\n",
    "print(obj1)"
   ]
  },
  {
   "cell_type": "code",
   "execution_count": 15,
   "metadata": {},
   "outputs": [
    {
     "name": "stdout",
     "output_type": "stream",
     "text": [
      "creating the object\n"
     ]
    }
   ],
   "source": [
    "class A:\n",
    "    def __new__(cls):\n",
    "        print('creating the object')\n",
    "        return super(A,cls).__new__(cls)\n",
    "obj=A()"
   ]
  },
  {
   "cell_type": "code",
   "execution_count": 16,
   "metadata": {},
   "outputs": [
    {
     "name": "stdout",
     "output_type": "stream",
     "text": [
      "creating the object\n",
      "object member created\n"
     ]
    }
   ],
   "source": [
    "class A:\n",
    "    def __new__(cls):\n",
    "        print('creating the object')\n",
    "        return super(A,cls).__new__(cls)\n",
    "\n",
    "    def __init__(self):\n",
    "        self.a=10\n",
    "        print('object member created')\n",
    "\n",
    "obj=A()"
   ]
  },
  {
   "cell_type": "code",
   "execution_count": 17,
   "metadata": {},
   "outputs": [
    {
     "name": "stdout",
     "output_type": "stream",
     "text": [
      "creating the object\n",
      "object member created\n",
      "10\n"
     ]
    }
   ],
   "source": [
    "class A:\n",
    "    def __new__(cls):\n",
    "        print('creating the object')\n",
    "        return super(A,cls).__new__(cls)\n",
    "\n",
    "    def __init__(self):\n",
    "        self.a=10\n",
    "        print('object member created')\n",
    "\n",
    "obj=A()\n",
    "print(obj.a)"
   ]
  },
  {
   "cell_type": "code",
   "execution_count": 18,
   "metadata": {},
   "outputs": [
    {
     "name": "stdout",
     "output_type": "stream",
     "text": [
      "30\n"
     ]
    }
   ],
   "source": [
    "class A:\n",
    "    def __init__(self,a,b,c=0):\n",
    "        self.a=a\n",
    "        self.b=b\n",
    "        self.c=c\n",
    "        print(a+b+c)\n",
    "obj=A(10,20)"
   ]
  },
  {
   "cell_type": "code",
   "execution_count": 20,
   "metadata": {},
   "outputs": [
    {
     "name": "stdout",
     "output_type": "stream",
     "text": [
      "35\n"
     ]
    }
   ],
   "source": [
    "class A:\n",
    "    def __init__(self,a,b,c=0):\n",
    "        self.a=a\n",
    "        self.b=b\n",
    "        self.c=c\n",
    "        print(a+b+c)\n",
    "obj=A(10,20,5)"
   ]
  },
  {
   "cell_type": "code",
   "execution_count": 21,
   "metadata": {},
   "outputs": [
    {
     "name": "stdout",
     "output_type": "stream",
     "text": [
      "enter a :1\n",
      "enter b :2\n",
      "enter c :3\n",
      "6\n"
     ]
    }
   ],
   "source": [
    "class A:\n",
    "    def __init__(self):\n",
    "        self.a=int(input('enter a :'))\n",
    "        self.b=int(input('enter b :'))\n",
    "        self.c=int(input('enter c :'))\n",
    "        print(self.a+self.b+self.c)\n",
    "obj=A()"
   ]
  },
  {
   "cell_type": "code",
   "execution_count": 22,
   "metadata": {},
   "outputs": [
    {
     "name": "stdout",
     "output_type": "stream",
     "text": [
      "enter a :1\n",
      "enter b :2\n",
      "enter c :3\n",
      "6\n",
      "6\n"
     ]
    }
   ],
   "source": [
    "class A:\n",
    "    def __init__(self):\n",
    "        self.a=int(input('enter a :'))\n",
    "        self.b=int(input('enter b :'))\n",
    "        self.c=int(input('enter c :'))\n",
    "        print(self.a+self.b+self.c)\n",
    "obj=A()\n",
    "print(obj.a+obj.b+obj.c)"
   ]
  },
  {
   "cell_type": "code",
   "execution_count": 25,
   "metadata": {},
   "outputs": [
    {
     "name": "stdout",
     "output_type": "stream",
     "text": [
      "enter a :1\n",
      "enter b :2\n",
      "enter c :3\n",
      "6\n",
      "enter a :10\n",
      "enter b :20\n",
      "enter c :30\n",
      "60\n"
     ]
    }
   ],
   "source": [
    "class A:\n",
    "    def __init__(self):\n",
    "        self.a=int(input('enter a :'))\n",
    "        self.b=int(input('enter b :'))\n",
    "        self.c=int(input('enter c :'))\n",
    "        print(self.a+self.b+self.c)\n",
    "obj=A()\n",
    "obj2=A()"
   ]
  },
  {
   "cell_type": "code",
   "execution_count": 1,
   "metadata": {},
   "outputs": [
    {
     "name": "stdout",
     "output_type": "stream",
     "text": [
      "enter :m\n",
      "enter :a\n",
      "enter :n\n",
      "enter :o\n",
      "enter :j\n",
      "enter :h\n",
      "m a\n",
      "n o\n",
      "j h\n",
      "enter :r\n",
      "enter :a\n",
      "enter :m\n",
      "enter :e\n",
      "enter :s\n",
      "enter :h\n",
      "r a\n",
      "m e\n",
      "s h\n"
     ]
    }
   ],
   "source": [
    "#using non parameterized constructor\n",
    "class school:\n",
    "    sname='mbs'\n",
    "    spho=7338223834\n",
    "    sprincipal='manoj'\n",
    "    swebsite='www.mbs.com'\n",
    "    \n",
    "    def __init__(self):\n",
    "        self.stname=input(\"enter :\")\n",
    "        self.stphno=input(\"enter :\")\n",
    "        self.stclas=input(\"enter :\")\n",
    "        self.studid=input(\"enter :\")\n",
    "        self.stddob=input(\"enter :\")\n",
    "        self.stdper=input(\"enter :\")\n",
    "        print(self.stname,self.stphno)\n",
    "        print(self.stclas,self.studid)\n",
    "        print(self.stddob,self.stdper)\n",
    "        \n",
    "student1=school()\n",
    "\n",
    "student2=school()"
   ]
  },
  {
   "cell_type": "code",
   "execution_count": 2,
   "metadata": {},
   "outputs": [
    {
     "name": "stdout",
     "output_type": "stream",
     "text": [
      "manoj 12 b 7338223834 blore 25\n"
     ]
    }
   ],
   "source": [
    "#using parameterized constructor\n",
    "class school:\n",
    "    sname='mbs'\n",
    "    spho=7338223834\n",
    "    sprincipal='manoj'\n",
    "    swebsite='www.mbs.com'\n",
    "    sadd='bangalore'\n",
    "    \n",
    "    def __init__(self,name,sclass,sec,phno,add,age):\n",
    "        self.name=name\n",
    "        self.sclass=sclass\n",
    "        self.sec=sec\n",
    "        self.phno=phno\n",
    "        self.add=add\n",
    "        self.age=age\n",
    "\n",
    "student1=school('manoj',12,'b',7338223834,'blore',25)\n",
    "print(student1.name,student1.sclass,student1.sec,student1.phno,student1.add,student1.age)"
   ]
  },
  {
   "cell_type": "code",
   "execution_count": 3,
   "metadata": {},
   "outputs": [
    {
     "name": "stdout",
     "output_type": "stream",
     "text": [
      "manoj 12 b 7338223834 blore 25\n"
     ]
    }
   ],
   "source": [
    "#using parameterized constructor\n",
    "class school:\n",
    "    sname='mbs'\n",
    "    spho=7338223834\n",
    "    sprincipal='manoj'\n",
    "    swebsite='www.mbs.com'\n",
    "    sadd='bangalore'\n",
    "    \n",
    "    def __init__(self,name,sclass,sec,phno,add,age):\n",
    "        self.name=name\n",
    "        self.sclass=sclass\n",
    "        self.sec=sec\n",
    "        self.phno=phno\n",
    "        self.add=add\n",
    "        self.age=age\n",
    "    \n",
    "    def display(self):\n",
    "        print(self.name,self.sclass,self.sec,self.phno,self.add,self.age)\n",
    "        \n",
    "student1=school('manoj',12,'b',7338223834,'blore',25)\n",
    "student1.display()"
   ]
  },
  {
   "cell_type": "code",
   "execution_count": 1,
   "metadata": {},
   "outputs": [
    {
     "name": "stdout",
     "output_type": "stream",
     "text": [
      "-10\n",
      "25\n"
     ]
    }
   ],
   "source": [
    "class sam:\n",
    "    a=10\n",
    "    b=20\n",
    "    def __init__(self):\n",
    "        self.p=30\n",
    "        self.q=5\n",
    "    @staticmethod\n",
    "    def mul(c,d):\n",
    "        return c-d\n",
    "    \n",
    "    @classmethod\n",
    "    def addition(cls):\n",
    "        out=cls.mul(cls.a,cls.b)\n",
    "        return out\n",
    "        \n",
    "    def addition1(self):\n",
    "        res=self.mul(self.p,self.q)\n",
    "        return res\n",
    "obj=sam()\n",
    "print(sam.addition())\n",
    "print(obj.addition1())"
   ]
  },
  {
   "cell_type": "code",
   "execution_count": 2,
   "metadata": {},
   "outputs": [
    {
     "name": "stdout",
     "output_type": "stream",
     "text": [
      "manoj tcs001 ase 25000\n",
      "amresh tcs003 ase 45000\n",
      "changes done sucessfully\n",
      "ramesh tcs002 manager 35000\n",
      "changes done sucessfully\n",
      "mr.ram\n"
     ]
    }
   ],
   "source": [
    "class company:\n",
    "    cname='TCS'\n",
    "    cadd='Blore'\n",
    "    ceo='mr.girish'\n",
    "    \n",
    "    def __init__(self,ename,eid,job,sal):\n",
    "        self.ename=ename\n",
    "        self.eid=eid\n",
    "        self.job=job\n",
    "        self.sal=sal\n",
    "        \n",
    "    def display(self):\n",
    "        print(self.ename,self.eid,self.job,self.sal)\n",
    "        \n",
    "    def chng_job(self,newjob):\n",
    "        self.job=newjob\n",
    "        self.msg()\n",
    "        \n",
    "    @classmethod\n",
    "    def ss_ceo(cls,newceo):\n",
    "        cls.ceo=newceo\n",
    "        cls.msg()\n",
    "        \n",
    "    @staticmethod\n",
    "    def msg():\n",
    "        print('changes done sucessfully')\n",
    "        \n",
    "emp1=company('manoj','tcs001','ase',25000)\n",
    "emp2=company('ramesh','tcs002','ase',35000)\n",
    "emp3=company('amresh','tcs003','ase',45000)\n",
    "emp4=company('manu','tcs004','ase',2000)\n",
    "\n",
    "emp1.display()\n",
    "emp3.display()\n",
    "emp2.chng_job('manager')\n",
    "emp2.display()\n",
    "company.ss_ceo('mr.ram')\n",
    "print(company.ceo)"
   ]
  },
  {
   "cell_type": "markdown",
   "metadata": {},
   "source": [
    "# inheritance"
   ]
  },
  {
   "cell_type": "code",
   "execution_count": null,
   "metadata": {},
   "outputs": [],
   "source": []
  },
  {
   "cell_type": "code",
   "execution_count": null,
   "metadata": {},
   "outputs": [],
   "source": []
  },
  {
   "cell_type": "code",
   "execution_count": null,
   "metadata": {},
   "outputs": [],
   "source": []
  },
  {
   "cell_type": "code",
   "execution_count": null,
   "metadata": {},
   "outputs": [],
   "source": []
  },
  {
   "cell_type": "code",
   "execution_count": null,
   "metadata": {},
   "outputs": [],
   "source": []
  },
  {
   "cell_type": "markdown",
   "metadata": {},
   "source": [
    "# acess specifier"
   ]
  },
  {
   "cell_type": "code",
   "execution_count": 4,
   "metadata": {},
   "outputs": [
    {
     "name": "stdout",
     "output_type": "stream",
     "text": [
      "10 20 30 40\n"
     ]
    }
   ],
   "source": [
    "#public\n",
    "\n",
    "class sam:\n",
    "    a=10\n",
    "    b=20\n",
    "    def __init__(self):\n",
    "        self.c=30\n",
    "        self.d=40\n",
    "    def display(self):\n",
    "        print(self.a,self.b,self.c,self.d)\n",
    "obj=sam()\n",
    "obj.display()"
   ]
  },
  {
   "cell_type": "code",
   "execution_count": 10,
   "metadata": {},
   "outputs": [
    {
     "name": "stdout",
     "output_type": "stream",
     "text": [
      "10 20 30 50\n"
     ]
    }
   ],
   "source": [
    "#protected \n",
    "\n",
    "class sam:\n",
    "    _a=10\n",
    "    _b=20\n",
    "    def __init__(self):\n",
    "        self.c=30\n",
    "        self.d=50\n",
    "    def _display(self):\n",
    "        print(self._a,self._b,self.c,self.d)\n",
    "obj=sam()\n",
    "obj._display()"
   ]
  },
  {
   "cell_type": "code",
   "execution_count": 9,
   "metadata": {},
   "outputs": [
    {
     "name": "stdout",
     "output_type": "stream",
     "text": [
      "10 20 50\n"
     ]
    }
   ],
   "source": [
    "#private\n",
    "\n",
    "class sam:\n",
    "    __a=10\n",
    "    __b=20\n",
    "    def __init__(self):\n",
    "        self.d=50\n",
    "    def __display(self):\n",
    "        print(self.__a,self.__b,self.d)\n",
    "obj=sam()\n",
    "obj._sam__display()"
   ]
  },
  {
   "cell_type": "code",
   "execution_count": 11,
   "metadata": {},
   "outputs": [
    {
     "ename": "AttributeError",
     "evalue": "'sam' object has no attribute '__display'",
     "output_type": "error",
     "traceback": [
      "\u001b[1;31m---------------------------------------------------------------------------\u001b[0m",
      "\u001b[1;31mAttributeError\u001b[0m                            Traceback (most recent call last)",
      "Input \u001b[1;32mIn [11]\u001b[0m, in \u001b[0;36m<cell line: 10>\u001b[1;34m()\u001b[0m\n\u001b[0;32m      8\u001b[0m         \u001b[38;5;28mprint\u001b[39m(\u001b[38;5;28mself\u001b[39m\u001b[38;5;241m.\u001b[39m__a,\u001b[38;5;28mself\u001b[39m\u001b[38;5;241m.\u001b[39m__b,\u001b[38;5;28mself\u001b[39m\u001b[38;5;241m.\u001b[39m__c,\u001b[38;5;28mself\u001b[39m\u001b[38;5;241m.\u001b[39md)\n\u001b[0;32m      9\u001b[0m obj\u001b[38;5;241m=\u001b[39msam()\n\u001b[1;32m---> 10\u001b[0m \u001b[43mobj\u001b[49m\u001b[38;5;241;43m.\u001b[39;49m\u001b[43m__display\u001b[49m()\n",
      "\u001b[1;31mAttributeError\u001b[0m: 'sam' object has no attribute '__display'"
     ]
    }
   ],
   "source": [
    "class sam:\n",
    "    __a=10\n",
    "    __b=20\n",
    "    def __init__(self):\n",
    "        self.__c=30\n",
    "        self.d=50\n",
    "    def __display(self):\n",
    "        print(self.__a,self.__b,self.__c,self.d)\n",
    "obj=sam()\n",
    "obj.__display()"
   ]
  },
  {
   "cell_type": "code",
   "execution_count": null,
   "metadata": {},
   "outputs": [],
   "source": []
  },
  {
   "cell_type": "code",
   "execution_count": null,
   "metadata": {},
   "outputs": [],
   "source": []
  },
  {
   "cell_type": "markdown",
   "metadata": {},
   "source": [
    "# programming class"
   ]
  },
  {
   "cell_type": "code",
   "execution_count": 2,
   "metadata": {},
   "outputs": [
    {
     "name": "stdout",
     "output_type": "stream",
     "text": [
      "enter a :12\n",
      "positive\n"
     ]
    }
   ],
   "source": [
    "a=int(input('enter a :'))\n",
    "if a >0:\n",
    "    print('positive')"
   ]
  },
  {
   "cell_type": "code",
   "execution_count": 3,
   "metadata": {},
   "outputs": [
    {
     "name": "stdout",
     "output_type": "stream",
     "text": [
      "enter a :hello\n",
      "enter b :olleh\n",
      "best\n"
     ]
    }
   ],
   "source": [
    "a=input('enter a :')\n",
    "b=input('enter b :')\n",
    "if  a==b[::-1]:\n",
    "    print('best')\n",
    "else:\n",
    "    print('worst')"
   ]
  },
  {
   "cell_type": "code",
   "execution_count": 4,
   "metadata": {},
   "outputs": [
    {
     "name": "stdout",
     "output_type": "stream",
     "text": [
      "enter floor or tree: floor\n",
      "monkey has 1 tail\n"
     ]
    }
   ],
   "source": [
    "inp1=input('enter floor or tree: ')\n",
    "if inp1=='floor':\n",
    "    pside=True \n",
    "else:\n",
    "    pside=False\n",
    "if pside==True:\n",
    "    print('monkey has 1 tail')\n",
    "else:\n",
    "    print('monkey has 2 tail')"
   ]
  },
  {
   "cell_type": "code",
   "execution_count": 5,
   "metadata": {},
   "outputs": [
    {
     "name": "stdout",
     "output_type": "stream",
     "text": [
      "enter floor or tree: Tree\n",
      "monkey has 2 tail\n"
     ]
    }
   ],
   "source": [
    "inp1=input('enter floor or tree: ')\n",
    "if inp1=='floor':\n",
    "    pside=True \n",
    "else:\n",
    "    pside=False\n",
    "if pside==True:\n",
    "    print('monkey has 1 tail')\n",
    "else:\n",
    "    print('monkey has 2 tail')"
   ]
  },
  {
   "cell_type": "code",
   "execution_count": 6,
   "metadata": {},
   "outputs": [
    {
     "name": "stdout",
     "output_type": "stream",
     "text": [
      "is girl smiling,type yes or no  :Yes\n",
      "Happy\n"
     ]
    }
   ],
   "source": [
    "ip1=input('is girl smiling,type yes or no  :')\n",
    "if ip1=='Yes':\n",
    "    psmile=True\n",
    "else:\n",
    "    psmile=False\n",
    "if psmile==True:\n",
    "    print('Happy')\n",
    "else:\n",
    "    print('SAD')"
   ]
  },
  {
   "cell_type": "code",
   "execution_count": 7,
   "metadata": {},
   "outputs": [
    {
     "name": "stdout",
     "output_type": "stream",
     "text": [
      "is girl smiling,type yes or no  :no\n",
      "SAD\n"
     ]
    }
   ],
   "source": [
    "ip1=input('is girl smiling,type yes or no  :')\n",
    "if ip1=='Yes':\n",
    "    psmile=True\n",
    "else:\n",
    "    psmile=False\n",
    "if psmile==True:\n",
    "    print('Happy')\n",
    "else:\n",
    "    print('SAD')"
   ]
  },
  {
   "cell_type": "code",
   "execution_count": 15,
   "metadata": {},
   "outputs": [
    {
     "name": "stdout",
     "output_type": "stream",
     "text": [
      "enter the num:@\n",
      "special chr\n"
     ]
    }
   ],
   "source": [
    "a=input(\"enter the num:\")\n",
    "if 'A'<=a<='Z':\n",
    "    print(\"uppercase\")\n",
    "elif 'a'<=a<='z':\n",
    "    print(\"lowercase\")\n",
    "elif '0'<=a<='9':\n",
    "    print(\"numeric\")\n",
    "else:\n",
    "    print(\"special chr\")"
   ]
  },
  {
   "cell_type": "code",
   "execution_count": 20,
   "metadata": {},
   "outputs": [
    {
     "name": "stdout",
     "output_type": "stream",
     "text": [
      "enter the num:25\n",
      "9765625\n"
     ]
    }
   ],
   "source": [
    "a=int(input('enter the num:'))\n",
    "if a%3==0 and a%5==0:\n",
    "    print(3+5)\n",
    "elif a%3==0:\n",
    "    print(a**3)\n",
    "elif a%5==0:\n",
    "    print(a**5)"
   ]
  },
  {
   "cell_type": "code",
   "execution_count": 23,
   "metadata": {},
   "outputs": [
    {
     "name": "stdout",
     "output_type": "stream",
     "text": [
      "enter the num:9\n",
      "729\n"
     ]
    }
   ],
   "source": [
    "a=int(input('enter the num:'))\n",
    "if a%3==0 and a%5==0:\n",
    "    print(3+5)\n",
    "elif a%3==0:\n",
    "    print(a**3)\n",
    "elif a%5==0:\n",
    "    print(a**5)"
   ]
  },
  {
   "cell_type": "code",
   "execution_count": 24,
   "metadata": {},
   "outputs": [
    {
     "name": "stdout",
     "output_type": "stream",
     "text": [
      "enter the num:15\n",
      "8\n"
     ]
    }
   ],
   "source": [
    "a=int(input('enter the num:'))\n",
    "if a%3==0 and a%5==0:\n",
    "    print(3+5)\n",
    "elif a%3==0:\n",
    "    print(a**3)\n",
    "elif a%5==0:\n",
    "    print(a**5)"
   ]
  },
  {
   "cell_type": "code",
   "execution_count": 19,
   "metadata": {},
   "outputs": [
    {
     "data": {
      "text/plain": [
       "729"
      ]
     },
     "execution_count": 19,
     "metadata": {},
     "output_type": "execute_result"
    }
   ],
   "source": [
    "9**3"
   ]
  },
  {
   "cell_type": "code",
   "execution_count": 22,
   "metadata": {},
   "outputs": [
    {
     "data": {
      "text/plain": [
       "9765625"
      ]
     },
     "execution_count": 22,
     "metadata": {},
     "output_type": "execute_result"
    }
   ],
   "source": [
    "25**5"
   ]
  },
  {
   "cell_type": "code",
   "execution_count": 4,
   "metadata": {},
   "outputs": [
    {
     "name": "stdout",
     "output_type": "stream",
     "text": [
      "enter the pizza :nonveg loaded\n",
      "enter the quantity :3\n",
      "enter 1 if addons required ,else 0 :1\n",
      "enter the addonsextra cheese\n",
      "740\n"
     ]
    }
   ],
   "source": [
    "menu={'cheese loaded':120,'veg loaded':180,'nonveg loaded':240}\n",
    "addons={'extra cheese':20,'extra ketchup':20}\n",
    "a=input(\"enter the pizza :\")\n",
    "b=int(input('enter the quantity :'))\n",
    "c=input('enter 1 if addons required ,else 0 :')\n",
    "if a in menu:\n",
    "    bill=menu[a]*b\n",
    "    if c=='1':\n",
    "        d=input('enter the addons')\n",
    "        if d in addons:\n",
    "            bill+=addons[d]\n",
    "            print(bill)\n",
    "        else:\n",
    "            print(\"addons not found\")\n",
    "    else:\n",
    "        print(bill)\n",
    "else:\n",
    "    print(\"item not avialable\")"
   ]
  },
  {
   "cell_type": "code",
   "execution_count": 5,
   "metadata": {},
   "outputs": [
    {
     "name": "stdout",
     "output_type": "stream",
     "text": [
      "enter the pizza :veg loaded\n",
      "enter the quantity :2\n",
      "enter 1 if addons required ,else 0 :0\n",
      "360\n"
     ]
    }
   ],
   "source": [
    "menu={'cheese loaded':120,'veg loaded':180,'nonveg loaded':240}\n",
    "addons={'extra cheese':20,'extra ketchup':20}\n",
    "a=input(\"enter the pizza :\")\n",
    "b=int(input('enter the quantity :'))\n",
    "c=input('enter 1 if addons required ,else 0 :')\n",
    "if a in menu:\n",
    "    bill=menu[a]*b\n",
    "    if c=='1':\n",
    "        d=input('enter the addons')\n",
    "        if d in addons:\n",
    "            bill+=addons[d]\n",
    "            print(bill)\n",
    "        else:\n",
    "            print(\"addons not found\")\n",
    "    else:\n",
    "        print(bill)\n",
    "else:\n",
    "    print(\"item not avialable\")"
   ]
  },
  {
   "cell_type": "code",
   "execution_count": 8,
   "metadata": {},
   "outputs": [
    {
     "name": "stdout",
     "output_type": "stream",
     "text": [
      "enter the pizza :corn\n",
      "enter the quantity :2\n",
      "enter 1 if addons required ,else 0 :1\n",
      "item not found\n"
     ]
    }
   ],
   "source": [
    "menu={'cheese loaded':120,'veg loaded':180,'nonveg loaded':240}\n",
    "addons={'extra cheese':20,'extra ketchup':20}\n",
    "a=input(\"enter the pizza :\")\n",
    "b=int(input('enter the quantity :'))\n",
    "c=input('enter 1 if addons required ,else 0 :')\n",
    "if a in menu:\n",
    "    bill=menu[a]*b\n",
    "    if c=='1':\n",
    "        d=input('enter the addons')\n",
    "        if d in addons:\n",
    "            bill+=addons[d]\n",
    "            print(bill)\n",
    "        else:\n",
    "            print(\"addons not found\")\n",
    "    else:\n",
    "        print(bill)\n",
    "else:\n",
    "    print(\"item not found\")"
   ]
  },
  {
   "cell_type": "code",
   "execution_count": 10,
   "metadata": {},
   "outputs": [
    {
     "name": "stdout",
     "output_type": "stream",
     "text": [
      "enter the pizza :corn\n",
      "enter the quantity :2\n",
      "enter 1 if addons required ,else 0 :0\n",
      "item not found\n"
     ]
    }
   ],
   "source": [
    "menu={'cheese loaded':120,'veg loaded':180,'nonveg loaded':240}\n",
    "addons={'extra cheese':20,'extra ketchup':20}\n",
    "a=input(\"enter the pizza :\")\n",
    "b=int(input('enter the quantity :'))\n",
    "c=input('enter 1 if addons required ,else 0 :')\n",
    "if a in menu:\n",
    "    bill=menu[a]*b\n",
    "    if c=='1':\n",
    "        d=input('enter the addons')\n",
    "        if d in addons:\n",
    "            bill+=addons[d]\n",
    "            print(bill)\n",
    "        else:\n",
    "            print(\"addons not found\")\n",
    "    else:\n",
    "        print(bill)\n",
    "else:\n",
    "    print(\"item not found\")"
   ]
  },
  {
   "cell_type": "code",
   "execution_count": 1,
   "metadata": {},
   "outputs": [
    {
     "name": "stdout",
     "output_type": "stream",
     "text": [
      "enter the pizza :cheese loaded\n",
      "enter the quantity :2\n",
      "enter 1 if addons required ,else 0 :1\n",
      "enter the addons :extra salt\n",
      "addons not found \n"
     ]
    }
   ],
   "source": [
    "menu={'cheese loaded':120,'veg loaded':180,'nonveg loaded':240}\n",
    "addons={'extra cheese':20,'extra ketchup':20}\n",
    "a=input(\"enter the pizza :\")\n",
    "b=int(input('enter the quantity :'))\n",
    "c=input('enter 1 if addons required ,else 0 :')\n",
    "if a in menu:\n",
    "    bill=menu[a]*b\n",
    "    if c=='1':\n",
    "        d=input('enter the addons :')\n",
    "        if d in addons:\n",
    "            bill+=addons[d]\n",
    "            print(bill)\n",
    "        else:\n",
    "            print(\"addons not found \")\n",
    "    else:\n",
    "        print(bill)\n",
    "else:\n",
    "    print(\"item not found\")"
   ]
  },
  {
   "cell_type": "code",
   "execution_count": 5,
   "metadata": {},
   "outputs": [
    {
     "name": "stdout",
     "output_type": "stream",
     "text": [
      "enter the num:5\n",
      "5 * 1 = 5\n",
      "5 * 2 = 10\n",
      "5 * 3 = 15\n",
      "5 * 4 = 20\n",
      "5 * 5 = 25\n",
      "5 * 6 = 30\n",
      "5 * 7 = 35\n",
      "5 * 8 = 40\n",
      "5 * 9 = 45\n",
      "5 * 10 = 50\n"
     ]
    }
   ],
   "source": [
    "n=int(input('enter the num:'))\n",
    "i=1\n",
    "while i<=10:\n",
    "    print(n,'*',i,'=',n*i)\n",
    "    i+=1"
   ]
  },
  {
   "cell_type": "code",
   "execution_count": 6,
   "metadata": {},
   "outputs": [
    {
     "name": "stdout",
     "output_type": "stream",
     "text": [
      "enter the num:5\n",
      "1 * 5 = 5\n",
      "2 * 5 = 10\n",
      "3 * 5 = 15\n",
      "4 * 5 = 20\n",
      "5 * 5 = 25\n",
      "6 * 5 = 30\n",
      "7 * 5 = 35\n",
      "8 * 5 = 40\n",
      "9 * 5 = 45\n",
      "10 * 5 = 50\n"
     ]
    }
   ],
   "source": [
    "n=int(input('enter the num:'))\n",
    "i=1\n",
    "while i<=10:\n",
    "    print(i,'*',n,'=',n*i)\n",
    "    i+=1"
   ]
  },
  {
   "cell_type": "code",
   "execution_count": 7,
   "metadata": {},
   "outputs": [
    {
     "name": "stdout",
     "output_type": "stream",
     "text": [
      "enter the num:5\n",
      "1*5=5\n",
      "2*5=10\n",
      "3*5=15\n",
      "4*5=20\n",
      "5*5=25\n",
      "6*5=30\n",
      "7*5=35\n",
      "8*5=40\n",
      "9*5=45\n",
      "10*5=50\n"
     ]
    }
   ],
   "source": [
    "n=int(input('enter the num:'))\n",
    "i=1\n",
    "while i<=10:\n",
    "    print(f'{i}*{n}={i*n}')\n",
    "    i+=1"
   ]
  },
  {
   "cell_type": "code",
   "execution_count": 8,
   "metadata": {},
   "outputs": [
    {
     "name": "stdout",
     "output_type": "stream",
     "text": [
      "heter\n"
     ]
    }
   ],
   "source": [
    "n=['python',10,20,30,'program']\n",
    "flag=0\n",
    "i=1\n",
    "while i <len(n):\n",
    "    if type(n[0])!=type(n[i]):\n",
    "        flag=1\n",
    "    i+=1\n",
    "if flag==1:\n",
    "    print(\"heter\")\n",
    "else:\n",
    "    print(\"homo\")"
   ]
  },
  {
   "cell_type": "code",
   "execution_count": 9,
   "metadata": {},
   "outputs": [
    {
     "name": "stdout",
     "output_type": "stream",
     "text": [
      "homo\n"
     ]
    }
   ],
   "source": [
    "n=[10,20,30]\n",
    "flag=0\n",
    "i=1\n",
    "while i <len(n):\n",
    "    if type(n[0])!=type(n[i]):\n",
    "        flag=1\n",
    "    i+=1\n",
    "if flag==1:\n",
    "    print(\"heter\")\n",
    "else:\n",
    "    print(\"homo\")"
   ]
  },
  {
   "cell_type": "code",
   "execution_count": 1,
   "metadata": {},
   "outputs": [
    {
     "name": "stdout",
     "output_type": "stream",
     "text": [
      "entter the  num:25\n",
      "52\n"
     ]
    }
   ],
   "source": [
    "n=int(input('entter the  num:'))\n",
    "rev=0\n",
    "while n!=0:\n",
    "    rev=rev*10+n%10\n",
    "    n//=10\n",
    "print(rev)"
   ]
  },
  {
   "cell_type": "code",
   "execution_count": 2,
   "metadata": {},
   "outputs": [
    {
     "name": "stdout",
     "output_type": "stream",
     "text": [
      "enter the  num:25\n",
      "52\n",
      "1\n",
      "2\n",
      "4\n",
      "13\n",
      "26\n",
      "52\n"
     ]
    }
   ],
   "source": [
    "n=int(input('enter the  num:'))\n",
    "rev=0\n",
    "while n!=0:\n",
    "    rev=rev*10+n%10\n",
    "    n//=10\n",
    "print(rev)\n",
    "    \n",
    "i=1\n",
    "while i<=rev:\n",
    "    if rev%i==0:\n",
    "        print(i)\n",
    "    i+=1"
   ]
  },
  {
   "cell_type": "code",
   "execution_count": 9,
   "metadata": {},
   "outputs": [
    {
     "name": "stdout",
     "output_type": "stream",
     "text": [
      "enter the  num:123\n",
      "reversed format of given input is :321\n",
      "1\n",
      "3\n",
      "107\n",
      "321\n"
     ]
    }
   ],
   "source": [
    "n=int(input('enter the  num:'))\n",
    "rev=0\n",
    "while n!=0:\n",
    "    rev=rev*10+n%10\n",
    "    n//=10\n",
    "print(f'reversed format of given input is :{rev}')\n",
    "    \n",
    "i=1\n",
    "while i<=rev:\n",
    "    if rev%i==0:\n",
    "        print(i)\n",
    "    i+=1"
   ]
  },
  {
   "cell_type": "code",
   "execution_count": null,
   "metadata": {},
   "outputs": [],
   "source": [
    "a=int(input('enter the num: '))\n",
    "i=1\n",
    "while i<=a:\n",
    "    if a%i==0:\n",
    "        print(i)\n",
    "    i+=1"
   ]
  },
  {
   "cell_type": "code",
   "execution_count": 3,
   "metadata": {},
   "outputs": [
    {
     "name": "stdout",
     "output_type": "stream",
     "text": [
      "lowercase sum:654,uppercase sum:472\n",
      "pies\n"
     ]
    }
   ],
   "source": [
    "s='pYSpiDeRsBTm@123'\n",
    "su,sl=0,0\n",
    "up=''\n",
    "lw=''\n",
    "i=0\n",
    "while i<len(s):\n",
    "    if 'a'<=s[i]<='z':\n",
    "        sl+=ord(s[i])\n",
    "        if i%2==0:\n",
    "            lw+=s[i]\n",
    "    elif 'A'<=s[i]<='Z':\n",
    "        su+=ord(s[i])\n",
    "        if i%2!=0:\n",
    "            up+=s[i]\n",
    "    i+=1\n",
    "print(f'lowercase sum:{sl},uppercase sum:{su}')\n",
    "if su>sl:\n",
    "    print(up)\n",
    "else:\n",
    "    print(lw)"
   ]
  },
  {
   "cell_type": "code",
   "execution_count": 5,
   "metadata": {},
   "outputs": [
    {
     "name": "stdout",
     "output_type": "stream",
     "text": [
      "pies\n"
     ]
    }
   ],
   "source": [
    "s='pYSpiDeRsBTm@123'\n",
    "su,sl=0,0\n",
    "i=0\n",
    "out=''\n",
    "while i<len(s):\n",
    "    if 'A'<=s[i]<='Z':\n",
    "        su+=ord(s[i])\n",
    "    elif 'a'<=s[i]<='z':\n",
    "        sl+=ord(s[i])\n",
    "    i+=1\n",
    "if su>sl:\n",
    "    while i>0:\n",
    "        i-=1\n",
    "        if i%2!=0 and 'A'<=s[i]<='Z':\n",
    "            out=s[i]+out\n",
    "else:\n",
    "    while i>0:\n",
    "        i-=1\n",
    "        if i%2==0 and 'a'<=s[i]<='z':\n",
    "            out=s[i]+out\n",
    "print(out)"
   ]
  },
  {
   "cell_type": "code",
   "execution_count": 6,
   "metadata": {},
   "outputs": [
    {
     "name": "stdout",
     "output_type": "stream",
     "text": [
      "enter the input370\n",
      "armstrong\n"
     ]
    }
   ],
   "source": [
    "a=int(input(\"enter the input\"))\n",
    "b=str(a)\n",
    "c=len(b)\n",
    "out=0\n",
    "for i in b:\n",
    "    out+=int(i)**c\n",
    "if out==a:\n",
    "    print(\"armstrong\")\n",
    "else:\n",
    "    print(\"not armstrong\")"
   ]
  },
  {
   "cell_type": "code",
   "execution_count": 7,
   "metadata": {},
   "outputs": [
    {
     "name": "stdout",
     "output_type": "stream",
     "text": [
      "enter the num:153\n",
      "armstrong\n",
      "153\n"
     ]
    }
   ],
   "source": [
    "a=int(input(\"enter the num:\"))\n",
    "n=a\n",
    "out=[]\n",
    "i=0\n",
    "while n>0:\n",
    "    out=[n%10]+out\n",
    "    i+=1\n",
    "    n//=10\n",
    "s=0\n",
    "for j in out:\n",
    "    s+=j**i\n",
    "if s==a:\n",
    "    print(\"armstrong\")\n",
    "    print(s)"
   ]
  },
  {
   "cell_type": "code",
   "execution_count": 8,
   "metadata": {},
   "outputs": [
    {
     "name": "stdout",
     "output_type": "stream",
     "text": [
      "((10, 2), (2437, 4))\n"
     ]
    }
   ],
   "source": [
    "a=[10,2.3,'hello','python',2437]\n",
    "out=()\n",
    "for i in a:\n",
    "    if type(i)==int:\n",
    "        out+=((i,len(str(i))),)\n",
    "print(out)"
   ]
  },
  {
   "cell_type": "code",
   "execution_count": 4,
   "metadata": {},
   "outputs": [
    {
     "name": "stdout",
     "output_type": "stream",
     "text": [
      "north vs east\n",
      "north vs west\n",
      "north vs south\n",
      "east vs west\n",
      "east vs south\n",
      "west vs south\n"
     ]
    }
   ],
   "source": [
    "zone=['north','east','west','south']\n",
    "out=[]\n",
    "for i in zone:\n",
    "    for j in zone:\n",
    "        if i!=j and (i+'vs'+j) not in out and (j+'vs'+i) not in out:\n",
    "            out+=[i+'vs'+j]\n",
    "            print(f'{i} vs {j}')\n",
    "        "
   ]
  },
  {
   "cell_type": "code",
   "execution_count": 6,
   "metadata": {},
   "outputs": [
    {
     "name": "stdout",
     "output_type": "stream",
     "text": [
      "{6: 'nohtyp', 11: 'gnimmargorp', 9: 'eguaugnal'}\n"
     ]
    }
   ],
   "source": [
    "a='python programming languauge'\n",
    "count=0\n",
    "out={}\n",
    "t=''\n",
    "for i in a :\n",
    "    if i!=' ':\n",
    "        t=i+t\n",
    "        count+=1\n",
    "    else:\n",
    "        out[count]=t\n",
    "        t=''\n",
    "        count=0\n",
    "out[count]=t\n",
    "print(out)"
   ]
  },
  {
   "cell_type": "code",
   "execution_count": 9,
   "metadata": {},
   "outputs": [
    {
     "name": "stdout",
     "output_type": "stream",
     "text": [
      "enter the num:50\n",
      "2\n",
      "3\n",
      "5\n",
      "7\n",
      "11\n",
      "13\n",
      "17\n",
      "19\n",
      "23\n",
      "29\n",
      "31\n",
      "37\n",
      "41\n",
      "43\n",
      "47\n"
     ]
    }
   ],
   "source": [
    "n=int(input(\"enter the num:\"))\n",
    "for i in range(2,n+1):\n",
    "    ind=0\n",
    "    for j in range(2,i):\n",
    "        if i%j==0:\n",
    "            ind=1\n",
    "            \n",
    "    if ind==0:\n",
    "        print(i)"
   ]
  },
  {
   "cell_type": "code",
   "execution_count": 13,
   "metadata": {},
   "outputs": [
    {
     "name": "stdout",
     "output_type": "stream",
     "text": [
      "enter the value :500\n",
      "153\n",
      "370\n",
      "371\n",
      "407\n"
     ]
    }
   ],
   "source": [
    "a=int(input('enter the value :'))\n",
    "for i in range(100,a+1):\n",
    "    s=0\n",
    "    for j in str(i):\n",
    "        s+=int(j)**len(str(i))\n",
    "    if s==i:\n",
    "        print(i)"
   ]
  },
  {
   "cell_type": "code",
   "execution_count": null,
   "metadata": {},
   "outputs": [],
   "source": []
  }
 ],
 "metadata": {
  "kernelspec": {
   "display_name": "Python 3 (ipykernel)",
   "language": "python",
   "name": "python3"
  },
  "language_info": {
   "codemirror_mode": {
    "name": "ipython",
    "version": 3
   },
   "file_extension": ".py",
   "mimetype": "text/x-python",
   "name": "python",
   "nbconvert_exporter": "python",
   "pygments_lexer": "ipython3",
   "version": "3.9.12"
  }
 },
 "nbformat": 4,
 "nbformat_minor": 4
}
